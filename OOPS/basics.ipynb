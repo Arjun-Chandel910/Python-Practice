{
 "cells": [
  {
   "cell_type": "markdown",
   "id": "1b0447b1",
   "metadata": {},
   "source": [
    "## OOPS\n"
   ]
  },
  {
   "cell_type": "code",
   "execution_count": 7,
   "id": "2cce4d68",
   "metadata": {},
   "outputs": [
    {
     "name": "stdout",
     "output_type": "stream",
     "text": [
      "Ana\n",
      "2\n"
     ]
    }
   ],
   "source": [
    "# class is a blueprint for creating objects\n",
    "\n",
    "\n",
    "## instance variable\n",
    "class Dog: \n",
    "    def __init__(self, name,age):\n",
    "        self.name =name\n",
    "        self.age = age\n",
    "german= Dog(\"Ana\" , 2)\n",
    "\n",
    "print(german.name)\n",
    "print(german.age)"
   ]
  },
  {
   "cell_type": "code",
   "execution_count": 13,
   "id": "1c049074",
   "metadata": {},
   "outputs": [
    {
     "name": "stdout",
     "output_type": "stream",
     "text": [
      "Oli says worf worf\n"
     ]
    },
    {
     "data": {
      "text/plain": [
       "5"
      ]
     },
     "execution_count": 13,
     "metadata": {},
     "output_type": "execute_result"
    }
   ],
   "source": [
    "# instance methods\n",
    "class Dog:\n",
    "    a= 5\n",
    "    def __init__(self , name ,age ):\n",
    "        self.name= name \n",
    "        self.age = age\n",
    "\n",
    "    def bark(self):\n",
    "        print(f\"{self.name} says worf worf\")\n",
    "d1 = Dog(\"Oli\",21)\n",
    "d1.bark()\n",
    "d1.a"
   ]
  },
  {
   "cell_type": "code",
   "execution_count": 28,
   "id": "c0b22d3b",
   "metadata": {},
   "outputs": [
    {
     "name": "stdout",
     "output_type": "stream",
     "text": [
      "True\n",
      "Hi i a Car class.\n",
      "This is tesla.\n"
     ]
    }
   ],
   "source": [
    "class Car:\n",
    "    def __init__(self,doors,windows,engineType):\n",
    "        self.doors= doors \n",
    "        self.windows = windows \n",
    "        self.engineType =engineType\n",
    "    def parent(self):\n",
    "        print(\"Hi i a Car class.\")\n",
    "class Tesla(Car):\n",
    "    def __init__(self , windows , doors , engineType ,is_selfdriving ,):\n",
    "        super().__init__(doors , windows, engineType) ## inherithing the properties of Car\n",
    "        # we can also do Animal.__init__\n",
    "        self.is_selfdriving=is_selfdriving\n",
    "    def child(self):\n",
    "        print(\"This is tesla.\")\n",
    "t1 = Tesla(5,4,\"electric\",True)\n",
    "print(t1.is_selfdriving)\n",
    "\n",
    "t1.parent()\n",
    "t1.child()\n"
   ]
  },
  {
   "cell_type": "code",
   "execution_count": 38,
   "id": "b6fa06c9",
   "metadata": {},
   "outputs": [
    {
     "name": "stdout",
     "output_type": "stream",
     "text": [
      "6\n"
     ]
    },
    {
     "data": {
      "text/plain": [
       "28.274333882308138"
      ]
     },
     "execution_count": 38,
     "metadata": {},
     "output_type": "execute_result"
    }
   ],
   "source": [
    "## Polymorphism \n",
    "# method overriding\n",
    "import math\n",
    "class Shape():\n",
    "    def area(self):\n",
    "        return \"Area is this !\"\n",
    "class Rectangle(Shape):\n",
    "    def area(self , length  ,breadth):\n",
    "        return length*breadth\n",
    "\n",
    "class Circle(Shape):\n",
    "    def area(self , radius):\n",
    "        return math.pi * radius*radius\n",
    "\n",
    "# print_area()\n",
    "r = Rectangle()\n",
    "c= Circle()\n",
    "print(r.area(2,3))\n",
    "c.area(3)\n",
    "\n",
    "\n"
   ]
  },
  {
   "cell_type": "code",
   "execution_count": 52,
   "id": "b2753503",
   "metadata": {},
   "outputs": [
    {
     "data": {
      "text/plain": [
       "'Car engine started.'"
      ]
     },
     "execution_count": 52,
     "metadata": {},
     "output_type": "execute_result"
    }
   ],
   "source": [
    "##polymorphism with abstract class \n",
    "from abc import ABC, abstractmethod\n",
    "class Vehicle(ABC):\n",
    "    @abstractmethod\n",
    "    def start_engine(self):\n",
    "        pass\n",
    "class Car(Vehicle):\n",
    "    def start_engine(self):\n",
    "        return \"Car engine started.\"\n",
    "class Motorcycle(Vehicle):\n",
    "    def start_engine(self):\n",
    "        return \"Motorcycle engine started.\"\n",
    "m = Motorcycle()\n",
    "m.start_engine()\n",
    "c = Car()\n",
    "c.start_engine()\n",
    "\n",
    "\n",
    "\n"
   ]
  },
  {
   "cell_type": "code",
   "execution_count": null,
   "id": "01c3196d",
   "metadata": {},
   "outputs": [],
   "source": []
  },
  {
   "cell_type": "code",
   "execution_count": null,
   "id": "a2105763",
   "metadata": {},
   "outputs": [],
   "source": []
  },
  {
   "cell_type": "code",
   "execution_count": null,
   "id": "78a0ab30",
   "metadata": {},
   "outputs": [],
   "source": []
  },
  {
   "cell_type": "code",
   "execution_count": null,
   "id": "9a72ae7f",
   "metadata": {},
   "outputs": [],
   "source": []
  },
  {
   "cell_type": "code",
   "execution_count": null,
   "id": "f42e913f",
   "metadata": {},
   "outputs": [],
   "source": []
  },
  {
   "cell_type": "code",
   "execution_count": null,
   "id": "9faf8275",
   "metadata": {},
   "outputs": [],
   "source": []
  },
  {
   "cell_type": "code",
   "execution_count": null,
   "id": "a443f32f",
   "metadata": {},
   "outputs": [],
   "source": []
  },
  {
   "cell_type": "code",
   "execution_count": null,
   "id": "42930671",
   "metadata": {},
   "outputs": [],
   "source": []
  },
  {
   "cell_type": "code",
   "execution_count": null,
   "id": "7470d3c8",
   "metadata": {},
   "outputs": [],
   "source": []
  },
  {
   "cell_type": "code",
   "execution_count": null,
   "id": "3d7e3135",
   "metadata": {},
   "outputs": [],
   "source": []
  },
  {
   "cell_type": "code",
   "execution_count": null,
   "id": "3832cfd4",
   "metadata": {},
   "outputs": [],
   "source": []
  },
  {
   "cell_type": "code",
   "execution_count": null,
   "id": "334cae50",
   "metadata": {},
   "outputs": [],
   "source": []
  },
  {
   "cell_type": "code",
   "execution_count": null,
   "id": "d7d33f02",
   "metadata": {},
   "outputs": [],
   "source": []
  },
  {
   "cell_type": "code",
   "execution_count": null,
   "id": "c1d521f9",
   "metadata": {},
   "outputs": [],
   "source": []
  },
  {
   "cell_type": "code",
   "execution_count": null,
   "id": "8429131d",
   "metadata": {},
   "outputs": [],
   "source": []
  },
  {
   "cell_type": "code",
   "execution_count": null,
   "id": "88f153a0",
   "metadata": {},
   "outputs": [],
   "source": []
  }
 ],
 "metadata": {
  "kernelspec": {
   "display_name": "Python 3",
   "language": "python",
   "name": "python3"
  },
  "language_info": {
   "codemirror_mode": {
    "name": "ipython",
    "version": 3
   },
   "file_extension": ".py",
   "mimetype": "text/x-python",
   "name": "python",
   "nbconvert_exporter": "python",
   "pygments_lexer": "ipython3",
   "version": "3.12.4"
  }
 },
 "nbformat": 4,
 "nbformat_minor": 5
}
