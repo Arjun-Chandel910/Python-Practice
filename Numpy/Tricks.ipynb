{
 "cells": [
  {
   "cell_type": "markdown",
   "id": "fb831de7",
   "metadata": {},
   "source": [
    "## Numpy Tricks:\n",
    "\n"
   ]
  },
  {
   "cell_type": "code",
   "execution_count": null,
   "id": "f7b3b21f",
   "metadata": {},
   "outputs": [],
   "source": [
    "import numpy as np \n",
    "a= np.random.randint(10,50,12)\n",
    "np.sort(a)"
   ]
  },
  {
   "cell_type": "code",
   "execution_count": null,
   "id": "d303e695",
   "metadata": {},
   "outputs": [],
   "source": [
    "b= np.random.randint(10,50,12).reshape(3,4)\n",
    "# np.sort(b,axis=1)\n",
    "np.sort(a)[::-1] # reverse sorting.\n",
    "b\n"
   ]
  },
  {
   "cell_type": "code",
   "execution_count": null,
   "id": "c89074ec",
   "metadata": {},
   "outputs": [],
   "source": [
    "# append\n",
    "np.append(b,np.random.randint(1,10,4).reshape(1,4),axis=0)# dimensions should match \n"
   ]
  },
  {
   "cell_type": "code",
   "execution_count": null,
   "id": "7679d533",
   "metadata": {},
   "outputs": [],
   "source": [
    "# concatenate   (follows broad casting wale dimention rules )\n",
    "a = np.arange(6).reshape(3,2)\n",
    "b = np.arange(3).reshape(3,1)\n",
    "np.concatenate((a,b), axis=1)"
   ]
  },
  {
   "cell_type": "code",
   "execution_count": 61,
   "id": "b573d373",
   "metadata": {},
   "outputs": [
    {
     "data": {
      "text/plain": [
       "array([0, 1, 2, 3, 4, 5, 6, 7])"
      ]
     },
     "execution_count": 61,
     "metadata": {},
     "output_type": "execute_result"
    }
   ],
   "source": [
    "# unique\n",
    "a=np.array([1,1,2,2,3,3,4,0,0,0,5,6,6,6,7,7,1])\n",
    "np.unique(a)"
   ]
  },
  {
   "cell_type": "code",
   "execution_count": null,
   "id": "5dff84b0",
   "metadata": {},
   "outputs": [],
   "source": [
    "# expand_dims  (convers 1d-> 2d   , 2d->3d   so this expands dimensions)\n",
    "np.expand_dims(a,axis=1)"
   ]
  },
  {
   "cell_type": "code",
   "execution_count": 77,
   "id": "f422a7b4",
   "metadata": {},
   "outputs": [
    {
     "data": {
      "text/plain": [
       "array([[91, 12],\n",
       "       [46, 98],\n",
       "       [68, 12],\n",
       "       [32, 54],\n",
       "       [24, 59]], dtype=int32)"
      ]
     },
     "execution_count": 77,
     "metadata": {},
     "output_type": "execute_result"
    }
   ],
   "source": [
    "# np.where    -> returns the indices of the elements for which a given condition satifies\n",
    "np.where(a>2)\n",
    "a=np.random.randint(10,100,10).reshape(5,2)\n",
    "a"
   ]
  },
  {
   "cell_type": "code",
   "execution_count": 66,
   "id": "2fcd44c6",
   "metadata": {},
   "outputs": [
    {
     "data": {
      "text/plain": [
       "array([ 0,  0,  0,  0, 10,  0,  0,  0, 47,  0], dtype=int32)"
      ]
     },
     "execution_count": 66,
     "metadata": {},
     "output_type": "execute_result"
    }
   ],
   "source": [
    "## replace all elements >50 with 0\n",
    "np.where(a>50,0,a)\n"
   ]
  },
  {
   "cell_type": "code",
   "execution_count": 80,
   "id": "779da71a",
   "metadata": {},
   "outputs": [
    {
     "data": {
      "text/plain": [
       "array([0, 1, 0, 1, 1])"
      ]
     },
     "execution_count": 80,
     "metadata": {},
     "output_type": "execute_result"
    }
   ],
   "source": [
    "# argmax (returns the index of the max element along a particular axis)\n",
    "np.argmax(a ,axis=1)"
   ]
  },
  {
   "cell_type": "code",
   "execution_count": 81,
   "id": "0064e91b",
   "metadata": {},
   "outputs": [
    {
     "data": {
      "text/plain": [
       "np.int64(1)"
      ]
     },
     "execution_count": 81,
     "metadata": {},
     "output_type": "execute_result"
    }
   ],
   "source": [
    "np.argmin(a)"
   ]
  },
  {
   "cell_type": "code",
   "execution_count": 88,
   "id": "69f0b5d4",
   "metadata": {},
   "outputs": [
    {
     "data": {
      "text/plain": [
       "array([[       91,        12],\n",
       "       [     4186,      1176],\n",
       "       [   284648,     14112],\n",
       "       [  9108736,    762048],\n",
       "       [218609664,  44960832]])"
      ]
     },
     "execution_count": 88,
     "metadata": {},
     "output_type": "execute_result"
    }
   ],
   "source": [
    "# cumsum cumilative sum\n",
    "a.shape\n",
    "np.cumsum(a,axis=0)\n",
    "np.cumprod(a,axis=0)\n",
    "\n"
   ]
  },
  {
   "cell_type": "code",
   "execution_count": 100,
   "id": "8acf354d",
   "metadata": {},
   "outputs": [
    {
     "name": "stdout",
     "output_type": "stream",
     "text": [
      "[67 88 47 20 90 44 81 59 42 78]\n",
      "63.0\n"
     ]
    },
    {
     "data": {
      "text/plain": [
       "np.float64(63.0)"
      ]
     },
     "execution_count": 100,
     "metadata": {},
     "output_type": "execute_result"
    }
   ],
   "source": [
    " # percentile \n",
    "a=np.random.randint(10,100,10)\n",
    "print(a)\n",
    "print(np.median(a))\n",
    "np.percentile(a,50)"
   ]
  },
  {
   "cell_type": "code",
   "execution_count": 102,
   "id": "0ce02694",
   "metadata": {},
   "outputs": [
    {
     "data": {
      "text/plain": [
       "(array([0, 1, 4, 2, 3]), array([  0,  20,  40,  60,  80, 100]))"
      ]
     },
     "execution_count": 102,
     "metadata": {},
     "output_type": "execute_result"
    }
   ],
   "source": [
    "np.histogram(a,bins=[0,20,40,60,80,100])"
   ]
  },
  {
   "cell_type": "code",
   "execution_count": 109,
   "id": "5d5f6a11",
   "metadata": {},
   "outputs": [
    {
     "data": {
      "text/plain": [
       "array([[ 1.        , -0.87790475],\n",
       "       [-0.87790475,  1.        ]])"
      ]
     },
     "execution_count": 109,
     "metadata": {},
     "output_type": "execute_result"
    }
   ],
   "source": [
    "salary = np.array([2000,20003,10000,40005,66660,50000])\n",
    "experience = np.array([5,4,3,2,1,0])\n",
    "np.corrcoef(salary,experience)\n"
   ]
  },
  {
   "cell_type": "code",
   "execution_count": null,
   "id": "54f21bb0",
   "metadata": {},
   "outputs": [
    {
     "name": "stdout",
     "output_type": "stream",
     "text": [
      "[67 88 47 20 90 44 81 59 42 78]\n"
     ]
    },
    {
     "data": {
      "text/plain": [
       "array([ True, False, False,  True, False, False, False, False, False,\n",
       "        True])"
      ]
     },
     "execution_count": 112,
     "metadata": {},
     "output_type": "execute_result"
    }
   ],
   "source": [
    "print(a)\n",
    "np.isin(a,[2,3,4,5,67,20,78,1,0,9,45]) # a is searched in the list"
   ]
  },
  {
   "cell_type": "code",
   "execution_count": null,
   "id": "341308f7",
   "metadata": {},
   "outputs": [],
   "source": [
    "# np.put to change multiple elements on certain indexes (makes permanent changes)\n",
    "np.put(a,[0,2],[88,88])\n"
   ]
  },
  {
   "cell_type": "code",
   "execution_count": null,
   "id": "90975a90",
   "metadata": {},
   "outputs": [
    {
     "data": {
      "text/plain": [
       "array([88, 88, 88, 20, 90, 44, 81, 59, 42, 78], dtype=int32)"
      ]
     },
     "execution_count": 117,
     "metadata": {},
     "output_type": "execute_result"
    }
   ],
   "source": [
    "np.delete(a,[0,1,2])\n"
   ]
  },
  {
   "cell_type": "code",
   "execution_count": null,
   "id": "fc17ec5b",
   "metadata": {},
   "outputs": [
    {
     "data": {
      "text/plain": [
       "array([1, 2, 6, 7])"
      ]
     },
     "execution_count": 122,
     "metadata": {},
     "output_type": "execute_result"
    }
   ],
   "source": [
    "# functions on sets \n",
    "a = np.array([1,2,3,4,5])\n",
    "b = np.array([3,4,5,6,7])\n",
    "np.union1d(a,b)\n",
    "np.intersect1d(a,b)\n",
    "np.setdiff1d(a,b)\n",
    "np.setdiff1d(b,a)\n",
    "np.setxor1d(a,b) ## removes the common part \n"
   ]
  },
  {
   "cell_type": "code",
   "execution_count": 129,
   "id": "ec5fcbb5",
   "metadata": {},
   "outputs": [
    {
     "data": {
      "text/plain": [
       "array([37, 44, 55, 34, 40, 80, 20, 61, 40, 27], dtype=int32)"
      ]
     },
     "execution_count": 129,
     "metadata": {},
     "output_type": "execute_result"
    }
   ],
   "source": [
    "np.isin(a,[4,5])\n",
    "a=np.random.randint(10,100,10)\n",
    "a"
   ]
  },
  {
   "cell_type": "code",
   "execution_count": 131,
   "id": "039f9586",
   "metadata": {},
   "outputs": [
    {
     "data": {
      "text/plain": [
       "array([37, 44, 55, 34, 40, 60, 30, 60, 40, 30], dtype=int32)"
      ]
     },
     "execution_count": 131,
     "metadata": {},
     "output_type": "execute_result"
    }
   ],
   "source": [
    "#  np.clip    (any elemenet below 30 becomes 30 and above 60 becomes 60)\n",
    "np.clip(a,a_max=60,a_min=30)"
   ]
  },
  {
   "cell_type": "code",
   "execution_count": null,
   "id": "c9c264a6",
   "metadata": {},
   "outputs": [],
   "source": []
  }
 ],
 "metadata": {
  "kernelspec": {
   "display_name": "Python 3",
   "language": "python",
   "name": "python3"
  },
  "language_info": {
   "codemirror_mode": {
    "name": "ipython",
    "version": 3
   },
   "file_extension": ".py",
   "mimetype": "text/x-python",
   "name": "python",
   "nbconvert_exporter": "python",
   "pygments_lexer": "ipython3",
   "version": "3.12.4"
  }
 },
 "nbformat": 4,
 "nbformat_minor": 5
}
