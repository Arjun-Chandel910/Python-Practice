{
 "cells": [
  {
   "cell_type": "markdown",
   "id": "af643629",
   "metadata": {},
   "source": [
    "## Numpy"
   ]
  },
  {
   "cell_type": "code",
   "execution_count": 1,
   "id": "de75a272",
   "metadata": {},
   "outputs": [],
   "source": [
    "import numpy as np"
   ]
  },
  {
   "cell_type": "code",
   "execution_count": 25,
   "id": "e6f791a6",
   "metadata": {},
   "outputs": [
    {
     "data": {
      "text/plain": [
       "array([['1', '2', '3'],\n",
       "       ['4', '5', 'Arjun']], dtype='<U21')"
      ]
     },
     "execution_count": 25,
     "metadata": {},
     "output_type": "execute_result"
    }
   ],
   "source": [
    "a = np.array([1,2,3,4,5])\n",
    "print(a)"
   ]
  },
  {
   "cell_type": "code",
   "execution_count": 16,
   "id": "5b899b99",
   "metadata": {},
   "outputs": [
    {
     "data": {
      "text/plain": [
       "array([1.+0.j, 0.+0.j, 3.+0.j, 4.+0.j])"
      ]
     },
     "execution_count": 16,
     "metadata": {},
     "output_type": "execute_result"
    }
   ],
   "source": [
    "# dtype\n",
    "np.array([1,2,3,4], dtype=float)\n",
    "np.array([1,2,3,4], dtype=str)\n",
    "np.array([1,0,3,4], dtype=bool)\n",
    "np.array([1,0,3,4], dtype=complex)"
   ]
  },
  {
   "cell_type": "code",
   "execution_count": 61,
   "id": "105566a8",
   "metadata": {},
   "outputs": [
    {
     "data": {
      "text/plain": [
       "array([[0.47533499, 0.49901763, 0.44368797, 0.57383468, 0.94474852],\n",
       "       [0.82038579, 0.45006087, 0.33294063, 0.53061547, 0.16938658]])"
      ]
     },
     "execution_count": 61,
     "metadata": {},
     "output_type": "execute_result"
    }
   ],
   "source": [
    "# arange\n",
    "np.arange(1,11)\n",
    "np.arange(1,11,2)\n",
    "\n",
    "# reshape\n",
    "np.arange(1,11).reshape(5,2)\n",
    "\n",
    "# np.ones\n",
    "np.ones((2,5) , dtype=int) \n",
    "# np.zeroes\n",
    "np.zeros([2,3])\n",
    "\n",
    "# np.random\n",
    "np.random.random((2,5))\n"
   ]
  },
  {
   "cell_type": "code",
   "execution_count": null,
   "id": "4672f089",
   "metadata": {},
   "outputs": [
    {
     "data": {
      "text/plain": [
       "array([ 0. ,  2.5,  5. ,  7.5, 10. ])"
      ]
     },
     "execution_count": 62,
     "metadata": {},
     "output_type": "execute_result"
    }
   ],
   "source": [
    "'''np.linspace  (linear space)  like if we want some number of\n",
    " points b/w a range, this will generate those no. of point at equal distance b/w the range'''\n",
    "np.linspace(0,10,5)"
   ]
  },
  {
   "cell_type": "code",
   "execution_count": 65,
   "id": "54b2a562",
   "metadata": {},
   "outputs": [
    {
     "data": {
      "text/plain": [
       "array([[1., 0., 0.],\n",
       "       [0., 1., 0.],\n",
       "       [0., 0., 1.]])"
      ]
     },
     "execution_count": 65,
     "metadata": {},
     "output_type": "execute_result"
    }
   ],
   "source": [
    "# identity matrix\n",
    "np.identity(3) # np.eye()"
   ]
  },
  {
   "cell_type": "markdown",
   "id": "efbf95e5",
   "metadata": {},
   "source": [
    "# Array Attributes :\n"
   ]
  },
  {
   "cell_type": "code",
   "execution_count": 94,
   "id": "0fa945b6",
   "metadata": {},
   "outputs": [
    {
     "data": {
      "text/plain": [
       "array([0, 1, 2, 3, 4, 5, 6, 7, 8, 9])"
      ]
     },
     "execution_count": 94,
     "metadata": {},
     "output_type": "execute_result"
    }
   ],
   "source": [
    "a1 = np.arange(10)\n",
    "a2= np.arange(12,dtype=float).reshape(3,4)\n",
    "a3 = np.arange(8,dtype=int).reshape(2,2,2)\n",
    "a1"
   ]
  },
  {
   "cell_type": "code",
   "execution_count": null,
   "id": "15851b04",
   "metadata": {},
   "outputs": [
    {
     "data": {
      "text/plain": [
       "dtype('int64')"
      ]
     },
     "execution_count": 104,
     "metadata": {},
     "output_type": "execute_result"
    }
   ],
   "source": [
    "# ndim\n",
    "a3.ndim\n",
    "\n",
    "\n",
    "# shape\n",
    "a1.shape\n",
    "a2.shape\n",
    "a3.shape\n",
    "\n",
    "# size\n",
    "a2.size\n",
    "\n",
    "# itemsize  (tells the size of each item in bytes)\n",
    "a3.itemsize\n",
    "a = np.array([\"a\",\"b\"])\n",
    "a.itemsize\n",
    "\n",
    "# dtype\n",
    "a3.dtype\n"
   ]
  },
  {
   "cell_type": "code",
   "execution_count": 109,
   "id": "dccbaace",
   "metadata": {},
   "outputs": [
    {
     "data": {
      "text/plain": [
       "array([[[0, 1],\n",
       "        [2, 3]],\n",
       "\n",
       "       [[4, 5],\n",
       "        [6, 7]]], dtype=int32)"
      ]
     },
     "execution_count": 109,
     "metadata": {},
     "output_type": "execute_result"
    }
   ],
   "source": [
    "# changing datatype\n",
    "a3.dtype\n",
    "# lets say we are storing ag e, we know that we dont need to store age int64 format , to optimize memory we can even store it in int32\n",
    "a3.astype(np.int32)\n",
    "\n",
    "\n"
   ]
  },
  {
   "cell_type": "code",
   "execution_count": null,
   "id": "4ddd2e97",
   "metadata": {},
   "outputs": [],
   "source": [
    "\n",
    "\n"
   ]
  }
 ],
 "metadata": {
  "kernelspec": {
   "display_name": "Python 3",
   "language": "python",
   "name": "python3"
  },
  "language_info": {
   "codemirror_mode": {
    "name": "ipython",
    "version": 3
   },
   "file_extension": ".py",
   "mimetype": "text/x-python",
   "name": "python",
   "nbconvert_exporter": "python",
   "pygments_lexer": "ipython3",
   "version": "3.12.4"
  }
 },
 "nbformat": 4,
 "nbformat_minor": 5
}
