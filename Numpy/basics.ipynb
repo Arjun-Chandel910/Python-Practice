{
 "cells": [
  {
   "cell_type": "markdown",
   "id": "af643629",
   "metadata": {},
   "source": [
    "## Numpy"
   ]
  },
  {
   "cell_type": "code",
   "execution_count": null,
   "id": "de75a272",
   "metadata": {},
   "outputs": [],
   "source": [
    "import numpy as np"
   ]
  },
  {
   "cell_type": "code",
   "execution_count": null,
   "id": "e6f791a6",
   "metadata": {},
   "outputs": [],
   "source": [
    "a = np.array([1,2,3,4,5])\n",
    "print(a)"
   ]
  },
  {
   "cell_type": "code",
   "execution_count": null,
   "id": "5b899b99",
   "metadata": {},
   "outputs": [],
   "source": [
    "# dtype\n",
    "np.array([1,2,3,4], dtype=float)\n",
    "np.array([1,2,3,4], dtype=str)\n",
    "np.array([1,0,3,4], dtype=bool)\n",
    "np.array([1,0,3,4], dtype=complex)"
   ]
  },
  {
   "cell_type": "code",
   "execution_count": null,
   "id": "105566a8",
   "metadata": {},
   "outputs": [],
   "source": [
    "# arange\n",
    "np.arange(1,11)\n",
    "np.arange(1,11,2)\n",
    "\n",
    "# reshape\n",
    "np.arange(1,11).reshape(5,2)\n",
    "\n",
    "# np.ones\n",
    "np.ones((2,5) , dtype=int) \n",
    "# np.zeroes\n",
    "np.zeros([2,3])\n",
    "\n",
    "# np.random\n",
    "np.random.random((2,5))\n"
   ]
  },
  {
   "cell_type": "code",
   "execution_count": null,
   "id": "4672f089",
   "metadata": {},
   "outputs": [],
   "source": [
    "'''np.linspace  (linear space)  like if we want some number of\n",
    " points b/w a range, this will generate those no. of point at equal distance b/w the range'''\n",
    "np.linspace(0,10,5)"
   ]
  },
  {
   "cell_type": "code",
   "execution_count": null,
   "id": "54b2a562",
   "metadata": {},
   "outputs": [],
   "source": [
    "# identity matrix\n",
    "np.identity(3) # np.eye()"
   ]
  },
  {
   "cell_type": "markdown",
   "id": "efbf95e5",
   "metadata": {},
   "source": [
    "# Array Attributes :\n"
   ]
  },
  {
   "cell_type": "code",
   "execution_count": null,
   "id": "0fa945b6",
   "metadata": {},
   "outputs": [],
   "source": [
    "import numpy as np\n",
    "a1 = np.arange(10)\n",
    "\n",
    "a2= np.arange(12,dtype=float).reshape(3,4)\n",
    "a3 = np.arange(8,dtype=int).reshape(2,2,2)\n",
    "a1"
   ]
  },
  {
   "cell_type": "code",
   "execution_count": null,
   "id": "15851b04",
   "metadata": {},
   "outputs": [],
   "source": [
    "# ndim\n",
    "\n",
    "a1.ndim\n",
    "\n",
    "\n",
    "# shape\n",
    "a1.shape\n",
    "a2.shape\n",
    "a3.shape\n",
    "\n",
    "# size\n",
    "a2.size\n",
    "\n",
    "# itemsize  (tells the size of each item in bytes)\n",
    "a3.itemsize\n",
    "a = np.array([\"a\",\"b\"])\n",
    "a.itemsize\n",
    "\n",
    "# dtype\n",
    "a3.dtype\n"
   ]
  },
  {
   "cell_type": "code",
   "execution_count": null,
   "id": "dccbaace",
   "metadata": {},
   "outputs": [],
   "source": [
    "# changing datatype\n",
    "a3.dtype\n",
    "# lets say we are storing ag e, we know that we dont need to store age int64 format , to optimize memory we can even store it in int32\n",
    "a3.astype(np.int32)\n",
    "\n",
    "\n"
   ]
  },
  {
   "cell_type": "markdown",
   "id": "cd2589d7",
   "metadata": {},
   "source": [
    "## Array operation :"
   ]
  },
  {
   "cell_type": "code",
   "execution_count": null,
   "id": "4ddd2e97",
   "metadata": {},
   "outputs": [],
   "source": [
    "a1 =np.arange(12).reshape(3,4)\n",
    "a2=np.arange(12,24).reshape(3,4)\n",
    "\n",
    "a2"
   ]
  },
  {
   "cell_type": "code",
   "execution_count": null,
   "id": "daff8069",
   "metadata": {},
   "outputs": [],
   "source": [
    "#  scalar operation  (operation with numbers)\n",
    "a1+1\n",
    "\n",
    "a1*2\n",
    "a1/2\n",
    "a1**2\n"
   ]
  },
  {
   "cell_type": "code",
   "execution_count": null,
   "id": "9a9f0e07",
   "metadata": {},
   "outputs": [],
   "source": [
    "# vector operation (operation between arrays)\n",
    "a2-a1"
   ]
  },
  {
   "cell_type": "markdown",
   "id": "74b2c9eb",
   "metadata": {},
   "source": [
    "## Array Functions : \n"
   ]
  },
  {
   "cell_type": "code",
   "execution_count": null,
   "id": "19cb2e96",
   "metadata": {},
   "outputs": [],
   "source": [
    "a1 = np.random.random((3,3))\n",
    "a1 = np.round((a1*100))\n",
    "a1"
   ]
  },
  {
   "cell_type": "code",
   "execution_count": null,
   "id": "4f47156b",
   "metadata": {},
   "outputs": [],
   "source": [
    "#  max min sum prod\n",
    "np.max(a1)\n",
    "np.min(a1)\n",
    "\n",
    "# axis 0->col  &  1->row\n",
    "np.min(a1,axis=1)\n",
    "\n",
    "np.sum(a1,axis=1)\n"
   ]
  },
  {
   "cell_type": "code",
   "execution_count": null,
   "id": "c04832d1",
   "metadata": {},
   "outputs": [],
   "source": [
    "# mean median var std\n",
    "np.mean(a1)\n",
    "np.std(a1)\n",
    "np.var(a1)\n"
   ]
  },
  {
   "cell_type": "code",
   "execution_count": null,
   "id": "0b8994eb",
   "metadata": {},
   "outputs": [],
   "source": [
    "# trignometric functions    (we dont really use these in data science)\n",
    "np.sin(a1)"
   ]
  },
  {
   "cell_type": "code",
   "execution_count": null,
   "id": "4b17ba50",
   "metadata": {},
   "outputs": [],
   "source": [
    "# dot product\n",
    "a = np.arange(12).reshape(3,4)\n",
    "b= np.arange(12,24).reshape(4,3)\n",
    "np.dot(a,b)\n",
    "\n",
    "# round / floor / ceil\n"
   ]
  },
  {
   "cell_type": "markdown",
   "id": "553b1278",
   "metadata": {},
   "source": [
    "### Indexing and Slicing"
   ]
  },
  {
   "cell_type": "code",
   "execution_count": null,
   "id": "0aac08f7",
   "metadata": {},
   "outputs": [],
   "source": [
    "a1 = np.arange(10)\n",
    "a2 = np.arange(12).reshape(3,4)\n",
    "a3= np.arange(8).reshape(2,2,2)\n",
    "a2\n"
   ]
  },
  {
   "cell_type": "code",
   "execution_count": null,
   "id": "6372fa13",
   "metadata": {},
   "outputs": [],
   "source": [
    "a2[1,2]"
   ]
  },
  {
   "cell_type": "code",
   "execution_count": null,
   "id": "26114caa",
   "metadata": {},
   "outputs": [],
   "source": [
    "a3"
   ]
  },
  {
   "cell_type": "code",
   "execution_count": null,
   "id": "9498ee69",
   "metadata": {},
   "outputs": [],
   "source": [
    "a3[1,1,0]"
   ]
  },
  {
   "cell_type": "code",
   "execution_count": null,
   "id": "35d5740e",
   "metadata": {},
   "outputs": [],
   "source": [
    "# slicing\n",
    "\n",
    "# 1d\n",
    "a1[2:5]\n",
    "\n",
    "\n",
    "# 2d\n",
    "a2[1:,1:3]\n",
    "a2[::2,1::2]\n",
    "\n"
   ]
  },
  {
   "cell_type": "code",
   "execution_count": null,
   "id": "7b42f362",
   "metadata": {},
   "outputs": [],
   "source": [
    "# slicing in 3d\n",
    "a3 = np.arange(27).reshape(3,3,3)\n",
    "a\n",
    "print(a[::2,0,::2])"
   ]
  },
  {
   "cell_type": "code",
   "execution_count": null,
   "id": "33b71120",
   "metadata": {},
   "outputs": [],
   "source": [
    "# Iterating\n",
    "for i in a1:\n",
    "    print(i)"
   ]
  },
  {
   "cell_type": "code",
   "execution_count": null,
   "id": "326cb034",
   "metadata": {},
   "outputs": [],
   "source": [
    "# nditer (first converter an ndim array to 1d array )\n",
    "for i in np.nditer(a3):\n",
    "    print(i)"
   ]
  },
  {
   "cell_type": "code",
   "execution_count": null,
   "id": "ccdee020",
   "metadata": {},
   "outputs": [],
   "source": [
    "# Transpose \n",
    "a2.T # or np.transpose(a2)\n",
    "\n",
    "# ravel   converts any ndim array to one d array , \n",
    "np.ravel(a2)"
   ]
  },
  {
   "cell_type": "markdown",
   "id": "c50d9357",
   "metadata": {},
   "source": [
    "## Stacking "
   ]
  },
  {
   "cell_type": "code",
   "execution_count": 119,
   "id": "b0e17473",
   "metadata": {},
   "outputs": [
    {
     "data": {
      "text/plain": [
       "array([[ 0,  1,  2,  3],\n",
       "       [ 4,  5,  6,  7],\n",
       "       [ 8,  9, 10, 11],\n",
       "       [12, 13, 14, 15],\n",
       "       [16, 17, 18, 19],\n",
       "       [20, 21, 22, 23]])"
      ]
     },
     "execution_count": 119,
     "metadata": {},
     "output_type": "execute_result"
    }
   ],
   "source": [
    "# vertical and horizontal \n",
    "\n",
    "a4 =np.arange(12).reshape(3,4)\n",
    "a5 =np.arange(12,24).reshape(3,4)\n",
    "\n",
    "# horizontal\n",
    "np.hstack((a4,a5))\n",
    "# vertical\n",
    "np.vstack((a4,a5))\n"
   ]
  },
  {
   "cell_type": "code",
   "execution_count": null,
   "id": "ef846c68",
   "metadata": {},
   "outputs": [],
   "source": []
  },
  {
   "cell_type": "code",
   "execution_count": null,
   "id": "546dcb77",
   "metadata": {},
   "outputs": [],
   "source": []
  }
 ],
 "metadata": {
  "kernelspec": {
   "display_name": "Python 3",
   "language": "python",
   "name": "python3"
  },
  "language_info": {
   "codemirror_mode": {
    "name": "ipython",
    "version": 3
   },
   "file_extension": ".py",
   "mimetype": "text/x-python",
   "name": "python",
   "nbconvert_exporter": "python",
   "pygments_lexer": "ipython3",
   "version": "3.12.4"
  }
 },
 "nbformat": 4,
 "nbformat_minor": 5
}
