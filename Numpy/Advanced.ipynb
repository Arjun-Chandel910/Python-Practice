{
 "cells": [
  {
   "cell_type": "markdown",
   "id": "f29852f0",
   "metadata": {},
   "source": [
    "## numpy :: advanded"
   ]
  },
  {
   "cell_type": "code",
   "execution_count": null,
   "id": "0c7c6dec",
   "metadata": {},
   "outputs": [
    {
     "data": {
      "text/plain": [
       "array([[2, 2, 1, 6],\n",
       "       [7, 3, 1, 8],\n",
       "       [4, 7, 9, 9],\n",
       "       [8, 0, 3, 1]])"
      ]
     },
     "execution_count": 16,
     "metadata": {},
     "output_type": "execute_result"
    }
   ],
   "source": [
    "import numpy as np\n",
    "a1= (np.random.random((4,4))*10).astype(int)\n",
    "a1"
   ]
  },
  {
   "cell_type": "code",
   "execution_count": 24,
   "id": "ef1dddad",
   "metadata": {},
   "outputs": [
    {
     "data": {
      "text/plain": [
       "array([[2, 1, 6],\n",
       "       [7, 1, 8],\n",
       "       [4, 9, 9],\n",
       "       [8, 3, 1]])"
      ]
     },
     "execution_count": 24,
     "metadata": {},
     "output_type": "execute_result"
    }
   ],
   "source": [
    "# Fancy indexing\n",
    "\n",
    "# 1 ,3,4 row   (when there is no pattern in indexing)\n",
    "a1[[0,2,3]]\n",
    "\n",
    "# 1 ,3 ,4 col\n",
    "a1[:,[0,2,3]]\n"
   ]
  },
  {
   "cell_type": "markdown",
   "id": "576a2008",
   "metadata": {},
   "source": [
    "### \n",
    "BOOLEAN INDEXING"
   ]
  },
  {
   "cell_type": "code",
   "execution_count": null,
   "id": "f8cd02af",
   "metadata": {},
   "outputs": [
    {
     "data": {
      "text/plain": [
       "array([[95, 64, 40, 46],\n",
       "       [ 2, 35, 74,  3],\n",
       "       [ 7, 25, 74, 93],\n",
       "       [61, 65, 10, 30],\n",
       "       [85, 34,  4, 65],\n",
       "       [78, 52, 96, 58]], dtype=int32)"
      ]
     },
     "execution_count": 30,
     "metadata": {},
     "output_type": "execute_result"
    }
   ],
   "source": [
    "# boolean indexing (applying conditions!)\n",
    "\n",
    "a2 =np.random.randint(1,100,24).reshape(6,4)\n",
    "\n",
    "a2\n",
    "a2>50"
   ]
  },
  {
   "cell_type": "code",
   "execution_count": 42,
   "id": "3c8ab5a3",
   "metadata": {},
   "outputs": [
    {
     "data": {
      "text/plain": [
       "array([64, 74, 74, 78, 52, 96, 58], dtype=int32)"
      ]
     },
     "execution_count": 42,
     "metadata": {},
     "output_type": "execute_result"
    }
   ],
   "source": [
    "# find all numbers greater than 50\n",
    "a2[a2>50]\n",
    "a2[a2%2==0] ## check even \n",
    "\n",
    "# find both greatr than 50 and even\n",
    "a2[(a2>50) & (a2%2==0) ]"
   ]
  },
  {
   "cell_type": "code",
   "execution_count": null,
   "id": "5d343957",
   "metadata": {},
   "outputs": [],
   "source": []
  },
  {
   "cell_type": "code",
   "execution_count": null,
   "id": "2b8a6fd0",
   "metadata": {},
   "outputs": [],
   "source": []
  },
  {
   "cell_type": "code",
   "execution_count": null,
   "id": "ae7908f5",
   "metadata": {},
   "outputs": [],
   "source": []
  },
  {
   "cell_type": "code",
   "execution_count": null,
   "id": "66fd0a14",
   "metadata": {},
   "outputs": [],
   "source": []
  },
  {
   "cell_type": "code",
   "execution_count": null,
   "id": "35ddbf9d",
   "metadata": {},
   "outputs": [],
   "source": []
  },
  {
   "cell_type": "code",
   "execution_count": null,
   "id": "9de0dab2",
   "metadata": {},
   "outputs": [],
   "source": []
  }
 ],
 "metadata": {
  "kernelspec": {
   "display_name": "Python 3",
   "language": "python",
   "name": "python3"
  },
  "language_info": {
   "codemirror_mode": {
    "name": "ipython",
    "version": 3
   },
   "file_extension": ".py",
   "mimetype": "text/x-python",
   "name": "python",
   "nbconvert_exporter": "python",
   "pygments_lexer": "ipython3",
   "version": "3.12.4"
  }
 },
 "nbformat": 4,
 "nbformat_minor": 5
}
