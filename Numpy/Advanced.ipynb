{
 "cells": [
  {
   "cell_type": "markdown",
   "id": "f29852f0",
   "metadata": {},
   "source": [
    "## numpy :: advanded"
   ]
  },
  {
   "cell_type": "code",
   "execution_count": null,
   "id": "0c7c6dec",
   "metadata": {},
   "outputs": [],
   "source": [
    "import numpy as np\n",
    "a1= (np.random.random((4,4))*10).astype(int)\n",
    "a1"
   ]
  },
  {
   "cell_type": "markdown",
   "id": "d83ffa26",
   "metadata": {},
   "source": [
    "### fancy indexing"
   ]
  },
  {
   "cell_type": "code",
   "execution_count": null,
   "id": "ef1dddad",
   "metadata": {},
   "outputs": [],
   "source": [
    "# Fancy indexing\n",
    "\n",
    "# 1 ,3,4 row   (when there is no pattern in indexing)\n",
    "a1[[0,2,3]]\n",
    "\n",
    "# 1 ,3 ,4 col\n",
    "a1[:,[0,2,3]]\n"
   ]
  },
  {
   "cell_type": "markdown",
   "id": "576a2008",
   "metadata": {},
   "source": [
    "### \n",
    "BOOLEAN INDEXING"
   ]
  },
  {
   "cell_type": "code",
   "execution_count": null,
   "id": "f8cd02af",
   "metadata": {},
   "outputs": [],
   "source": [
    "# boolean indexing (applying conditions!)\n",
    "\n",
    "a2 =np.random.randint(1,100,24).reshape(6,4)\n",
    "\n",
    "a2\n",
    "a2>50"
   ]
  },
  {
   "cell_type": "code",
   "execution_count": null,
   "id": "3c8ab5a3",
   "metadata": {},
   "outputs": [],
   "source": [
    "# find all numbers greater than 50\n",
    "a2[a2>50]\n",
    "a2[a2%2==0] ## check even \n",
    "\n",
    "# find both greatr than 50 and even\n",
    "a2[(a2>50) & (a2%2==0) ]\n",
    "\n",
    "# not divisible by 7 \n",
    "a2[~(a2%7==0)]"
   ]
  },
  {
   "cell_type": "markdown",
   "id": "4f30f7a6",
   "metadata": {},
   "source": [
    "## Broadcasting\n",
    "\n",
    "\n",
    "Broadcasting is a feature in NumPy that allows arrays of different shapes to be used together in arithmetic operations as if they had the same shape — without copying data.\n",
    "\n",
    "📏 Two Rules of Broadcasting:\n",
    "If the arrays have different dimensions, the smaller one is padded with 1s on the left\n",
    "Example: shape (3,) becomes (1, 3)\n",
    "\n",
    "Dimensions are compatible when:\n",
    "\n",
    "They are equal, or\n",
    "\n",
    "One of them is 1\n",
    "\n",
    "If all dimensions match these rules, NumPy broadcasts the smaller array over the larger one."
   ]
  },
  {
   "cell_type": "code",
   "execution_count": null,
   "id": "5d343957",
   "metadata": {},
   "outputs": [],
   "source": [
    "a = np.arange(12).reshape(4,3)\n",
    "b = np.arange(3)\n",
    "a+b"
   ]
  },
  {
   "cell_type": "code",
   "execution_count": null,
   "id": "2b8a6fd0",
   "metadata": {},
   "outputs": [],
   "source": [
    "# shapes are not compatible \n",
    "a = np.arange(12).reshape(3,4)\n",
    "b = np.arange(3)\n",
    "a+b"
   ]
  },
  {
   "cell_type": "code",
   "execution_count": 59,
   "id": "ae7908f5",
   "metadata": {},
   "outputs": [
    {
     "ename": "ValueError",
     "evalue": "operands could not be broadcast together with shapes (2,3) (3,2) ",
     "output_type": "error",
     "traceback": [
      "\u001b[31m---------------------------------------------------------------------------\u001b[39m",
      "\u001b[31mValueError\u001b[39m                                Traceback (most recent call last)",
      "\u001b[36mCell\u001b[39m\u001b[36m \u001b[39m\u001b[32mIn[59]\u001b[39m\u001b[32m, line 3\u001b[39m\n\u001b[32m      1\u001b[39m a = np.arange(\u001b[32m6\u001b[39m).reshape(\u001b[32m2\u001b[39m,\u001b[32m3\u001b[39m)\n\u001b[32m      2\u001b[39m b = np.arange(\u001b[32m6\u001b[39m).reshape(\u001b[32m3\u001b[39m,\u001b[32m2\u001b[39m)\n\u001b[32m----> \u001b[39m\u001b[32m3\u001b[39m \u001b[43ma\u001b[49m\u001b[43m+\u001b[49m\u001b[43mb\u001b[49m\n",
      "\u001b[31mValueError\u001b[39m: operands could not be broadcast together with shapes (2,3) (3,2) "
     ]
    }
   ],
   "source": [
    "a = np.arange(6).reshape(2,3)\n",
    "b = np.arange(6).reshape(3,2)\n",
    "a+b\n"
   ]
  },
  {
   "cell_type": "code",
   "execution_count": null,
   "id": "66fd0a14",
   "metadata": {},
   "outputs": [],
   "source": []
  },
  {
   "cell_type": "code",
   "execution_count": null,
   "id": "35ddbf9d",
   "metadata": {},
   "outputs": [],
   "source": []
  },
  {
   "cell_type": "code",
   "execution_count": null,
   "id": "9de0dab2",
   "metadata": {},
   "outputs": [],
   "source": []
  }
 ],
 "metadata": {
  "kernelspec": {
   "display_name": "Python 3",
   "language": "python",
   "name": "python3"
  },
  "language_info": {
   "codemirror_mode": {
    "name": "ipython",
    "version": 3
   },
   "file_extension": ".py",
   "mimetype": "text/x-python",
   "name": "python",
   "nbconvert_exporter": "python",
   "pygments_lexer": "ipython3",
   "version": "3.12.4"
  }
 },
 "nbformat": 4,
 "nbformat_minor": 5
}
