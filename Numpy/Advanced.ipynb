{
 "cells": [
  {
   "cell_type": "markdown",
   "id": "f29852f0",
   "metadata": {},
   "source": [
    "## numpy :: advanded"
   ]
  },
  {
   "cell_type": "code",
   "execution_count": null,
   "id": "0c7c6dec",
   "metadata": {},
   "outputs": [],
   "source": [
    "import numpy as np\n",
    "a1= (np.random.random((4,4))*10).astype(int)\n",
    "a1"
   ]
  },
  {
   "cell_type": "markdown",
   "id": "d83ffa26",
   "metadata": {},
   "source": [
    "### fancy indexing"
   ]
  },
  {
   "cell_type": "code",
   "execution_count": null,
   "id": "ef1dddad",
   "metadata": {},
   "outputs": [],
   "source": [
    "# Fancy indexing\n",
    "\n",
    "# 1 ,3,4 row   (when there is no pattern in indexing)\n",
    "a1[[0,2,3]]\n",
    "\n",
    "# 1 ,3 ,4 col\n",
    "a1[:,[0,2,3]]\n"
   ]
  },
  {
   "cell_type": "markdown",
   "id": "576a2008",
   "metadata": {},
   "source": [
    "### \n",
    "BOOLEAN INDEXING"
   ]
  },
  {
   "cell_type": "code",
   "execution_count": null,
   "id": "f8cd02af",
   "metadata": {},
   "outputs": [],
   "source": [
    "# boolean indexing (applying conditions!)\n",
    "\n",
    "a2 =np.random.randint(1,100,24).reshape(6,4)\n",
    "\n",
    "a2\n",
    "a2>50"
   ]
  },
  {
   "cell_type": "code",
   "execution_count": null,
   "id": "3c8ab5a3",
   "metadata": {},
   "outputs": [],
   "source": [
    "# find all numbers greater than 50\n",
    "a2[a2>50]\n",
    "a2[a2%2==0] ## check even \n",
    "\n",
    "# find both greatr than 50 and even\n",
    "a2[(a2>50) & (a2%2==0) ]\n",
    "\n",
    "# not divisible by 7 \n",
    "a2[~(a2%7==0)]"
   ]
  },
  {
   "cell_type": "markdown",
   "id": "4f30f7a6",
   "metadata": {},
   "source": [
    "## Broadcasting\n",
    "\n",
    "\n",
    "Broadcasting is a feature in NumPy that allows arrays of different shapes to be used together in arithmetic operations as if they had the same shape — without copying data.\n",
    "\n",
    "📏 Two Rules of Broadcasting:\n",
    "If the arrays have different dimensions, the smaller one is padded with 1s on the left\n",
    "Example: shape (3,) becomes (1, 3)\n",
    "\n",
    "Dimensions are compatible when:\n",
    "\n",
    "They are equal, or\n",
    "\n",
    "One of them is 1\n",
    "\n",
    "If all dimensions match these rules, NumPy broadcasts the smaller array over the larger one."
   ]
  },
  {
   "cell_type": "code",
   "execution_count": null,
   "id": "5d343957",
   "metadata": {},
   "outputs": [],
   "source": [
    "a = np.arange(12).reshape(4,3)\n",
    "b = np.arange(3)\n",
    "a+b"
   ]
  },
  {
   "cell_type": "code",
   "execution_count": null,
   "id": "2b8a6fd0",
   "metadata": {},
   "outputs": [],
   "source": [
    "# shapes are not compatible \n",
    "a = np.arange(12).reshape(3,4)\n",
    "b = np.arange(3)\n",
    "a+b"
   ]
  },
  {
   "cell_type": "code",
   "execution_count": null,
   "id": "ae7908f5",
   "metadata": {},
   "outputs": [],
   "source": [
    "a = np.arange(6).reshape(2,3)\n",
    "b = np.arange(6).reshape(3,2)\n",
    "a+b\n"
   ]
  },
  {
   "attachments": {
    "image.png": {
     "image/png": "[encoded data removed]"
    }
   },
   "cell_type": "markdown",
   "id": "99114ca0",
   "metadata": {},
   "source": [
    "### Working with mathematcal formula.\n",
    "(that dont already exist : we create create them .)\n",
    "\n",
    "\n",
    "Eg:  sigmoid function  ![image.png](attachment:image.png)"
   ]
  },
  {
   "cell_type": "code",
   "execution_count": 77,
   "id": "66fd0a14",
   "metadata": {},
   "outputs": [
    {
     "data": {
      "text/plain": [
       "array([0.5       , 0.73105858, 0.88079708, 0.95257413, 0.98201379,\n",
       "       0.99330715, 0.99752738, 0.99908895, 0.99966465, 0.99987661])"
      ]
     },
     "execution_count": 77,
     "metadata": {},
     "output_type": "execute_result"
    }
   ],
   "source": [
    "a = np.arange(10)\n",
    "def sigmoid(array):\n",
    "    return 1/(1+ np.exp(-(array)))\n",
    "a\n",
    "sigmoid(a)\n",
    "\n",
    "\n"
   ]
  },
  {
   "attachments": {
    "image.png": {
     "image/png": "[encoded data removed]"
    }
   },
   "cell_type": "markdown",
   "id": "01e07801",
   "metadata": {},
   "source": [
    "mean square error ![image.png](attachment:image.png)"
   ]
  },
  {
   "cell_type": "code",
   "execution_count": 86,
   "id": "35ddbf9d",
   "metadata": {},
   "outputs": [],
   "source": [
    "actual = np.random.randint(1,50,25)\n",
    "predicted = np.random.randint(1,50,25)\n"
   ]
  },
  {
   "cell_type": "code",
   "execution_count": 87,
   "id": "9de0dab2",
   "metadata": {},
   "outputs": [
    {
     "data": {
      "text/plain": [
       "np.float64(409.84)"
      ]
     },
     "execution_count": 87,
     "metadata": {},
     "output_type": "execute_result"
    }
   ],
   "source": [
    "def mse(actual,predicted):\n",
    "    return np.mean((actual-predicted)**2)\n",
    "mse(actual,predicted)\n"
   ]
  }
 ],
 "metadata": {
  "kernelspec": {
   "display_name": "Python 3",
   "language": "python",
   "name": "python3"
  },
  "language_info": {
   "codemirror_mode": {
    "name": "ipython",
    "version": 3
   },
   "file_extension": ".py",
   "mimetype": "text/x-python",
   "name": "python",
   "nbconvert_exporter": "python",
   "pygments_lexer": "ipython3",
   "version": "3.12.4"
  }
 },
 "nbformat": 4,
 "nbformat_minor": 5
}
