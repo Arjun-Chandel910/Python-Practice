{
 "cells": [
  {
   "cell_type": "markdown",
   "id": "0efb9765",
   "metadata": {},
   "source": [
    "## File handling\n"
   ]
  },
  {
   "cell_type": "code",
   "execution_count": 17,
   "id": "6ab6dac6",
   "metadata": {},
   "outputs": [
    {
     "name": "stdout",
     "output_type": "stream",
     "text": [
      "arjun chandel is the best man on the planet .\n",
      " what about it ,\n",
      "  is there something that you are not telling me \n",
      "  , what are you trying to insinutate\n"
     ]
    }
   ],
   "source": [
    "## read the whole content\n",
    "with open(\"example.txt\" , 'r') as file:\n",
    "    content = file.read()\n",
    "    print(content)\n",
    "    \n"
   ]
  },
  {
   "cell_type": "code",
   "execution_count": 19,
   "id": "dd4b87fd",
   "metadata": {},
   "outputs": [
    {
     "name": "stdout",
     "output_type": "stream",
     "text": [
      "arjun chandel is the best man on the planet .\n",
      "what about it ,\n",
      "is there something that you are not telling me\n",
      ", what are you trying to insinutate\n"
     ]
    }
   ],
   "source": [
    "## read line by line \n",
    "with open(\"example.txt\", 'r') as file :\n",
    "    for line in file:\n",
    "        print(line.strip()) ## .strip removes the newline character\n",
    "        "
   ]
  },
  {
   "cell_type": "code",
   "execution_count": 55,
   "id": "cc097be5",
   "metadata": {},
   "outputs": [],
   "source": [
    "## writing a file (overwriting) \n",
    "with open(\"example.txt\" , 'w') as file:\n",
    "    file.write(\"Hey, my name is Arjun Chandel.\\n\")"
   ]
  },
  {
   "cell_type": "code",
   "execution_count": 53,
   "id": "f5d29b22",
   "metadata": {},
   "outputs": [],
   "source": [
    "## appending \n",
    "with open(\"example.txt\" , 'a') as file:\n",
    "    file.write(\"I am a very hardworking boy .\\n\")"
   ]
  },
  {
   "cell_type": "code",
   "execution_count": 57,
   "id": "b5710433",
   "metadata": {},
   "outputs": [],
   "source": [
    "# Wringing a list of lines to a file \n",
    "lines=[\"hey\\n\" ,\"my name is Arjun Chandel\\n\" ,\"I'm a very hardworking boy \"]\n",
    "with open(\"example.txt\" , 'a') as file:\n",
    "    file.writelines(lines)\n",
    "    "
   ]
  },
  {
   "cell_type": "code",
   "execution_count": null,
   "id": "ef39ccfa",
   "metadata": {},
   "outputs": [],
   "source": [
    "with open(\"example.txt\",'r') as source_file:\n",
    "    content= source_file.read()\n",
    "\n",
    "with open(\"destination.txt\",'w') as destination_file:\n",
    "    destination_file.write(content)"
   ]
  },
  {
   "cell_type": "code",
   "execution_count": 70,
   "id": "f1ee60c2",
   "metadata": {},
   "outputs": [
    {
     "name": "stdout",
     "output_type": "stream",
     "text": [
      "How are you from. \n",
      "I am from good thanks. \n",
      "\n"
     ]
    }
   ],
   "source": [
    "## writing then reading a file \n",
    "with open(\"example.txt\" , 'w+')as file:\n",
    "    file.write(\"How are you from. \\n\")\n",
    "    file.write(\"I am from good thanks. \\n\") \n",
    "\n",
    "    #while i write the cursor is at the end\n",
    "    # so we need to  move the cursor to the start \n",
    "    file.seek(0)\n",
    "    content = file.read()\n",
    "    print(content)\n",
    "\n"
   ]
  },
  {
   "cell_type": "code",
   "execution_count": 71,
   "id": "a4e61b7c",
   "metadata": {},
   "outputs": [],
   "source": [
    "import os \n",
    "package_directory = \"package\"\n",
    "os.mkdir(package_directory)"
   ]
  },
  {
   "cell_type": "code",
   "execution_count": null,
   "id": "52969ff5",
   "metadata": {},
   "outputs": [
    {
     "name": "stdout",
     "output_type": "stream",
     "text": [
      "<module 'ntpath' (frozen)>\n"
     ]
    }
   ],
   "source": [
    "## listing files and directories\n",
    "items= os.listdir(\"..\") \n",
    " #  \".\"  for the current directory\n",
    " #  \"..\"  for the parent directory\n",
    "print(items)"
   ]
  },
  {
   "cell_type": "code",
   "execution_count": null,
   "id": "e167b630",
   "metadata": {},
   "outputs": [],
   "source": [
    "print(os.path)\n"
   ]
  },
  {
   "cell_type": "code",
   "execution_count": null,
   "id": "1ff938e4",
   "metadata": {},
   "outputs": [],
   "source": []
  },
  {
   "cell_type": "code",
   "execution_count": null,
   "id": "3db02fd8",
   "metadata": {},
   "outputs": [],
   "source": []
  },
  {
   "cell_type": "code",
   "execution_count": null,
   "id": "497bc175",
   "metadata": {},
   "outputs": [],
   "source": []
  },
  {
   "cell_type": "code",
   "execution_count": null,
   "id": "ab677694",
   "metadata": {},
   "outputs": [],
   "source": []
  }
 ],
 "metadata": {
  "kernelspec": {
   "display_name": "Python 3",
   "language": "python",
   "name": "python3"
  },
  "language_info": {
   "codemirror_mode": {
    "name": "ipython",
    "version": 3
   },
   "file_extension": ".py",
   "mimetype": "text/x-python",
   "name": "python",
   "nbconvert_exporter": "python",
   "pygments_lexer": "ipython3",
   "version": "3.12.4"
  }
 },
 "nbformat": 4,
 "nbformat_minor": 5
}
