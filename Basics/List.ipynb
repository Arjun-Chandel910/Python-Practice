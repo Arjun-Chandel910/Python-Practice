{
 "cells": [
  {
   "cell_type": "code",
   "execution_count": null,
   "id": "97612282",
   "metadata": {},
   "outputs": [
    {
     "name": "stdout",
     "output_type": "stream",
     "text": [
      "[]\n"
     ]
    }
   ],
   "source": [
    "a = [5,2,2,3,\"Arjun\" , \"Minaal\",\"Sayam ,\",\"Saiyam\"]\n",
    "print(a[::-1])  \n"
   ]
  },
  {
   "cell_type": "code",
   "execution_count": 15,
   "id": "89a67102",
   "metadata": {},
   "outputs": [
    {
     "name": "stdout",
     "output_type": "stream",
     "text": [
      "[5, 2, 'Arjun', 'Sayam ,']\n"
     ]
    }
   ],
   "source": [
    "print(a[0:len(a):2])\n"
   ]
  },
  {
   "cell_type": "markdown",
   "id": "26079c08",
   "metadata": {},
   "source": [
    "List Methods\n"
   ]
  },
  {
   "cell_type": "code",
   "execution_count": 41,
   "id": "fa72780a",
   "metadata": {},
   "outputs": [
    {
     "name": "stdout",
     "output_type": "stream",
     "text": [
      "['Apple', 'banana', 'orange', 'guava']\n",
      "[]\n"
     ]
    }
   ],
   "source": [
    "fruits= [\"Apple\",\"banana\",\"orange\",\"guava\"]\n",
    "print(fruits)\n",
    "# fruits.append(\"apple\")\n",
    "# fruits.pop()\n",
    "# print(fruits.index(\"Apple\"))\n",
    "# fruits[3]= fruits[3].upper()\n",
    "fruits.clear()\n",
    "# print(fruits.count(\"Apple\"))\n",
    "# fruits.sort()\n",
    "print(fruits)\n"
   ]
  },
  {
   "cell_type": "markdown",
   "id": "e62ac7c8",
   "metadata": {},
   "source": [
    "<!-- LIST SLICING -->"
   ]
  },
  {
   "cell_type": "code",
   "execution_count": 49,
   "id": "b0c196d6",
   "metadata": {},
   "outputs": [
    {
     "name": "stdout",
     "output_type": "stream",
     "text": [
      "[1, 2, 3, 4, 5, 6, 7, 8, 9, 10]\n",
      "[1, 3, 5, 7, 9]\n",
      "[10, 9, 8, 7, 6, 5, 4, 3, 2, 1]\n"
     ]
    }
   ],
   "source": [
    "numbers=[1,2,3,4,5,6,7,8,9,10]\n",
    "print(numbers[::]) ## double colon means all the elements.\n",
    "print(numbers[::2])\n",
    "print(numbers[::-1])"
   ]
  },
  {
   "cell_type": "markdown",
   "id": "02b6529b",
   "metadata": {},
   "source": [
    "Iterating a LIST"
   ]
  },
  {
   "cell_type": "code",
   "execution_count": 50,
   "id": "d8db231f",
   "metadata": {},
   "outputs": [
    {
     "name": "stdout",
     "output_type": "stream",
     "text": [
      "1\n",
      "2\n",
      "3\n",
      "4\n",
      "5\n",
      "6\n",
      "7\n",
      "8\n",
      "9\n",
      "10\n"
     ]
    }
   ],
   "source": [
    "for number in numbers:\n",
    "    print(number)"
   ]
  },
  {
   "cell_type": "code",
   "execution_count": 56,
   "id": "9118d868",
   "metadata": {},
   "outputs": [
    {
     "name": "stdout",
     "output_type": "stream",
     "text": [
      "0   1\n",
      "1   2\n",
      "2   3\n",
      "3   4\n",
      "4   5\n",
      "5   6\n",
      "6   7\n",
      "7   8\n",
      "8   9\n",
      "9   10\n"
     ]
    }
   ],
   "source": [
    "# Iterating with Index \n",
    "for index , number in enumerate(numbers):\n",
    "    print(index ,\" \" ,number)"
   ]
  },
  {
   "cell_type": "markdown",
   "id": "e25dd8c3",
   "metadata": {},
   "source": [
    "##### LIST COMPREHENSION\n",
    "Basic syntax: [ EXPRESION for item in iterable ]\n",
    "\n",
    "with conditions [EXPRESSION for item in iterable IF condition]\n"
   ]
  },
  {
   "cell_type": "code",
   "execution_count": 62,
   "id": "2191601e",
   "metadata": {},
   "outputs": [
    {
     "name": "stdout",
     "output_type": "stream",
     "text": [
      "[0, 1, 4, 9, 16, 25, 36, 49, 64, 81]\n"
     ]
    }
   ],
   "source": [
    "square = [i**2 for i in range(10)]\n",
    "print(square)"
   ]
  },
  {
   "cell_type": "code",
   "execution_count": 64,
   "id": "dc89034f",
   "metadata": {},
   "outputs": [
    {
     "name": "stdout",
     "output_type": "stream",
     "text": [
      "[0, 2, 4, 6, 8]\n"
     ]
    }
   ],
   "source": [
    "evenNumber= [num for num in range(10) if num%2==0]\n",
    "print(evenNumber)"
   ]
  },
  {
   "cell_type": "markdown",
   "id": "ae0b86a7",
   "metadata": {},
   "source": [
    "#### Nested List Comprehension\n",
    "[EXPRESSION for i in iterable   for j in iterable]"
   ]
  },
  {
   "cell_type": "code",
   "execution_count": null,
   "id": "99c7cc46",
   "metadata": {},
   "outputs": [
    {
     "name": "stdout",
     "output_type": "stream",
     "text": [
      "[(1, 'a'), (1, 'b'), (1, 'c'), (1, 'd'), (1, 'e'), (2, 'a'), (2, 'b'), (2, 'c'), (2, 'd'), (2, 'e'), (3, 'a'), (3, 'b'), (3, 'c'), (3, 'd'), (3, 'e'), (4, 'a'), (4, 'b'), (4, 'c'), (4, 'd'), (4, 'e'), (5, 'a'), (5, 'b'), (5, 'c'), (5, 'd'), (5, 'e')]\n"
     ]
    }
   ],
   "source": [
    "a = [(i,j)  for i in [1,2,3,4,5] for j in [\"a\",\"b\",\"c\",\"d\",\"e\"]]\n",
    "print(a)"
   ]
  },
  {
   "cell_type": "code",
   "execution_count": null,
   "id": "9a6bfb39",
   "metadata": {},
   "outputs": [],
   "source": [
    "a= 1\n",
    "print(a)"
   ]
  }
 ],
 "metadata": {
  "kernelspec": {
   "display_name": "Python 3",
   "language": "python",
   "name": "python3"
  },
  "language_info": {
   "codemirror_mode": {
    "name": "ipython",
    "version": 3
   },
   "file_extension": ".py",
   "mimetype": "text/x-python",
   "name": "python",
   "nbconvert_exporter": "python",
   "pygments_lexer": "ipython3",
   "version": "undefined.undefined.undefined"
  }
 },
 "nbformat": 4,
 "nbformat_minor": 5
}
