{
 "cells": [
  {
   "cell_type": "markdown",
   "id": "edb2a7ee",
   "metadata": {},
   "source": [
    "# Functions"
   ]
  },
  {
   "cell_type": "code",
   "execution_count": 3,
   "id": "e3f56ca0",
   "metadata": {},
   "outputs": [
    {
     "name": "stdout",
     "output_type": "stream",
     "text": [
      "1\n",
      "2\n",
      "5\n",
      "6\n",
      "6\n",
      "Arjun\n",
      "Saiyam\n"
     ]
    }
   ],
   "source": [
    "## variable lenght argument\n",
    "# positional and keyword agruments\n",
    "\n",
    "def print_numbers( *args): # positional agrument\n",
    "    for i in args:\n",
    "        print(i)\n",
    "\n",
    "print_numbers(1,2,5,6,6,\"Arjun\",\"Saiyam\")"
   ]
  },
  {
   "cell_type": "code",
   "execution_count": 12,
   "id": "6008cdef",
   "metadata": {},
   "outputs": [
    {
     "name": "stdout",
     "output_type": "stream",
     "text": [
      "name : Arjun\n",
      "age : 21\n"
     ]
    }
   ],
   "source": [
    "## keyword arguments\n",
    "def  printDetails(**kwargs): ## all the parameters will be in the form of key value pairs\n",
    "    for key, value in kwargs.items():\n",
    "        print(f\"{key} : {value}\")\n",
    "\n",
    "printDetails(name=\"Arjun\",age=21)  \n",
    "\n"
   ]
  },
  {
   "cell_type": "markdown",
   "id": "2a485bc0",
   "metadata": {},
   "source": [
    "## Lambda\n",
    "### only a substitute for functions with one expression"
   ]
  },
  {
   "cell_type": "code",
   "execution_count": 16,
   "id": "f5cac222",
   "metadata": {},
   "outputs": [
    {
     "data": {
      "text/plain": [
       "11"
      ]
     },
     "execution_count": 16,
     "metadata": {},
     "output_type": "execute_result"
    }
   ],
   "source": [
    "def addition (a,b):\n",
    "    return a+b\n",
    "\n",
    "# or\n",
    "addition = lambda a,b : a+b\n",
    "addition(3,8)"
   ]
  },
  {
   "cell_type": "markdown",
   "id": "cb895853",
   "metadata": {},
   "source": [
    "## Map function "
   ]
  },
  {
   "cell_type": "code",
   "execution_count": 19,
   "id": "ffa870b7",
   "metadata": {},
   "outputs": [
    {
     "data": {
      "text/plain": [
       "[1, 4, 9, 16, 25, 36, 49, 64]"
      ]
     },
     "execution_count": 19,
     "metadata": {},
     "output_type": "execute_result"
    }
   ],
   "source": [
    "def square(num):\n",
    "    return num*num\n",
    "\n",
    "numbers=[1,2,3,4,5,6,7,8]\n",
    "list(map(square,numbers)) # or \n",
    "list(map(lambda x:x*x,numbers))"
   ]
  },
  {
   "cell_type": "code",
   "execution_count": 21,
   "id": "814fa5fc",
   "metadata": {},
   "outputs": [
    {
     "name": "stdout",
     "output_type": "stream",
     "text": [
      "[5, 7, 9]\n"
     ]
    }
   ],
   "source": [
    "# map multiple iterables\n",
    "numbers1 = [1,2,3]\n",
    "numbers2=[4,5,6]\n",
    "added_numbers=list(map(lambda x,y: x+y , numbers1,numbers2))\n",
    "print(added_numbers)"
   ]
  },
  {
   "cell_type": "code",
   "execution_count": 30,
   "id": "a7db8fee",
   "metadata": {},
   "outputs": [
    {
     "name": "stdout",
     "output_type": "stream",
     "text": [
      "['APPLE', 'BANANA', 'CHERRY']\n"
     ]
    }
   ],
   "source": [
    "fruits = [\"apple\",\"banana\",\"cherry\"]\n",
    "upper_words= list(map(str.upper,fruits))\n",
    "print(upper_words)"
   ]
  },
  {
   "cell_type": "code",
   "execution_count": null,
   "id": "c24c0d5a",
   "metadata": {},
   "outputs": [],
   "source": [
    "people = [\n",
    "    {\"name\":\"Arjun\",\"age\":\"20\"}\n",
    "    {\"name\":\"Arjun\",\"age\":\"20\"}\n",
    "    ]"
   ]
  },
  {
   "cell_type": "code",
   "execution_count": null,
   "id": "9b76e5d3",
   "metadata": {},
   "outputs": [],
   "source": []
  },
  {
   "cell_type": "code",
   "execution_count": null,
   "id": "5fd0ea01",
   "metadata": {},
   "outputs": [],
   "source": []
  },
  {
   "cell_type": "code",
   "execution_count": null,
   "id": "1a4b5537",
   "metadata": {},
   "outputs": [],
   "source": []
  },
  {
   "cell_type": "code",
   "execution_count": null,
   "id": "69c1e1c0",
   "metadata": {},
   "outputs": [],
   "source": []
  },
  {
   "cell_type": "code",
   "execution_count": null,
   "id": "9dd46ac8",
   "metadata": {},
   "outputs": [],
   "source": []
  },
  {
   "cell_type": "code",
   "execution_count": null,
   "id": "d3add03a",
   "metadata": {},
   "outputs": [],
   "source": []
  }
 ],
 "metadata": {
  "kernelspec": {
   "display_name": "Python 3",
   "language": "python",
   "name": "python3"
  },
  "language_info": {
   "codemirror_mode": {
    "name": "ipython",
    "version": 3
   },
   "file_extension": ".py",
   "mimetype": "text/x-python",
   "name": "python",
   "nbconvert_exporter": "python",
   "pygments_lexer": "ipython3",
   "version": "3.12.4"
  }
 },
 "nbformat": 4,
 "nbformat_minor": 5
}
