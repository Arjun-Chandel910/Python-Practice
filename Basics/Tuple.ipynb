{
 "cells": [
  {
   "cell_type": "code",
   "execution_count": null,
   "id": "72df5222",
   "metadata": {},
   "outputs": [],
   "source": []
  },
  {
   "cell_type": "markdown",
   "id": "2b6aceed",
   "metadata": {},
   "source": [
    "### List is mutable whereas tuple is immutable\n",
    "\n",
    "\n",
    "#### note:\n",
    "done use list and tuple as names for the same data type\n"
   ]
  },
  {
   "cell_type": "markdown",
   "id": "71fa5668",
   "metadata": {},
   "source": [
    "# TUPLES"
   ]
  },
  {
   "cell_type": "code",
   "execution_count": 2,
   "id": "bda59ac6",
   "metadata": {},
   "outputs": [
    {
     "name": "stdout",
     "output_type": "stream",
     "text": [
      "(1, 2, 3, 3, 4, 5)\n"
     ]
    }
   ],
   "source": [
    "my_tuple = tuple([1,2,3,3,4,5]) ## list to tuple \n",
    "print(my_tuple)"
   ]
  },
  {
   "cell_type": "code",
   "execution_count": 10,
   "id": "bd751f35",
   "metadata": {},
   "outputs": [
    {
     "name": "stdout",
     "output_type": "stream",
     "text": [
      "(5, 3, 2)\n",
      "(1, 2, 3, 4, 5, 5, 'Arjun', 'loveena', True)\n"
     ]
    }
   ],
   "source": [
    "## Accesssing tuple elements\n",
    "\n",
    "print(my_tuple[::-2])\n",
    "\n",
    "## concatinate tuupes \n",
    "tup1= (1,2,3,4,5,5)\n",
    "tup2= (\"Arjun\",\"loveena\",True)\n",
    "newTup=tup1 + tup2\n",
    "print(newTup)\n"
   ]
  },
  {
   "cell_type": "code",
   "execution_count": 48,
   "id": "862e230e",
   "metadata": {},
   "outputs": [
    {
     "name": "stdout",
     "output_type": "stream",
     "text": [
      "[1, 2, 3, 4, 5]\n",
      "[1, 2, 3, 4, True]\n",
      "(12, 3, 4, 5, 5)\n",
      "(12, 3, 4, 5, 5)\n"
     ]
    }
   ],
   "source": [
    "# Immutable nature of Tuples \n",
    "list = [1,2,3,4,5]\n",
    "print(list)\n",
    "list[-1]= True\n",
    "print(list)\n",
    "\n",
    "\n",
    "tup = (12,3,4,5,5)\n",
    "print(tup)\n",
    "\n",
    "# tuple[-1]= False ## this will give error \n",
    "print(tup)\n"
   ]
  },
  {
   "cell_type": "code",
   "execution_count": 20,
   "id": "f995d76d",
   "metadata": {},
   "outputs": [
    {
     "name": "stdout",
     "output_type": "stream",
     "text": [
      "2\n",
      "0\n"
     ]
    }
   ],
   "source": [
    "## TUPLE METHODS\n",
    "numbers = (1,2,3,4,5,6,1)\n",
    "print(numbers.count(1))\n",
    "print(numbers.index(1))\n"
   ]
  },
  {
   "cell_type": "markdown",
   "id": "e9f812c8",
   "metadata": {},
   "source": [
    "## packing and unpacking tuples "
   ]
  },
  {
   "cell_type": "code",
   "execution_count": 32,
   "id": "c6ea34a1",
   "metadata": {},
   "outputs": [
    {
     "name": "stdout",
     "output_type": "stream",
     "text": [
      "(1, 'Arjun', True, 'Loveena', 5)\n",
      "1\n",
      "Arjun\n",
      "True\n",
      "Loveena\n",
      "5\n"
     ]
    }
   ],
   "source": [
    "## paking tupes \n",
    "packed_tuple = 1,\"Arjun\" , True,\"Loveena\" , 5\n",
    "print(packed_tuple)\n",
    "\n",
    "## unpacking tuple \n",
    "a,b,c,d,e= packed_tuple\n",
    "print(a) \n",
    "print(b) \n",
    "print(c) \n",
    "print(d) \n",
    "print(e) \n"
   ]
  },
  {
   "cell_type": "code",
   "execution_count": 33,
   "id": "4b1b8457",
   "metadata": {},
   "outputs": [
    {
     "name": "stdout",
     "output_type": "stream",
     "text": [
      "1\n",
      "['Arjun', True, 'Loveena']\n",
      "5\n"
     ]
    }
   ],
   "source": [
    "\n",
    "## unpacking with star\n",
    "first , *rest, last =packed_tuple\n",
    "print(first)\n",
    "print(rest)\n",
    "print(last)"
   ]
  },
  {
   "cell_type": "markdown",
   "id": "435fb207",
   "metadata": {},
   "source": [
    "### Nested tuples"
   ]
  },
  {
   "cell_type": "code",
   "execution_count": 55,
   "id": "c9705300",
   "metadata": {},
   "outputs": [
    {
     "name": "stdout",
     "output_type": "stream",
     "text": [
      "3\n",
      "3\n",
      "[[1, 2, 3], [4, 5, 6], [7, 8, 9]]\n",
      "[[2, 3, 4], [5, 6, 7], [8, 9, 10]]\n"
     ]
    }
   ],
   "source": [
    " \n",
    "## nested list \n",
    "my_list = [[1,2,3],[4,5,6],[7,8,9]]\n",
    "print(len(my_list))\n",
    "print(len(my_list[0]))\n",
    "list2= [[my_list[i][j]+1  for j in range(len(my_list[0]))] for i in range(len(my_list))]\n",
    "print(my_list)\n",
    "print(list2) \n"
   ]
  },
  {
   "cell_type": "code",
   "execution_count": 57,
   "id": "3e0c020f",
   "metadata": {},
   "outputs": [
    {
     "ename": "TypeError",
     "evalue": "'tuple' object is not callable",
     "output_type": "error",
     "traceback": [
      "\u001b[31m---------------------------------------------------------------------------\u001b[39m",
      "\u001b[31mTypeError\u001b[39m                                 Traceback (most recent call last)",
      "\u001b[36mCell\u001b[39m\u001b[36m \u001b[39m\u001b[32mIn[57]\u001b[39m\u001b[32m, line 4\u001b[39m\n\u001b[32m      2\u001b[39m tup  = (\u001b[32m1\u001b[39m,\u001b[32m2\u001b[39m,\u001b[32m3\u001b[39m,\u001b[32m4\u001b[39m,\u001b[32m5\u001b[39m)\n\u001b[32m      3\u001b[39m tup2= (num**\u001b[32m2\u001b[39m  \u001b[38;5;28;01mfor\u001b[39;00m num \u001b[38;5;129;01min\u001b[39;00m tup ) \u001b[38;5;66;03m#this is a generator object\u001b[39;00m\n\u001b[32m----> \u001b[39m\u001b[32m4\u001b[39m tup2 = \u001b[38;5;28;43mtuple\u001b[39;49m\u001b[43m(\u001b[49m\u001b[43mi\u001b[49m\u001b[43m*\u001b[49m\u001b[43m*\u001b[49m\u001b[32;43m2\u001b[39;49m\u001b[43m \u001b[49m\u001b[38;5;28;43;01mfor\u001b[39;49;00m\u001b[43m \u001b[49m\u001b[43mi\u001b[49m\u001b[43m \u001b[49m\u001b[38;5;129;43;01min\u001b[39;49;00m\u001b[43m \u001b[49m\u001b[43mtup\u001b[49m\u001b[43m)\u001b[49m \u001b[38;5;66;03m# this is how to create a tuple using generator object\u001b[39;00m\n\u001b[32m      5\u001b[39m \u001b[38;5;28mprint\u001b[39m(tup)\n\u001b[32m      6\u001b[39m \u001b[38;5;28mprint\u001b[39m(tup2)\n",
      "\u001b[31mTypeError\u001b[39m: 'tuple' object is not callable"
     ]
    }
   ],
   "source": [
    "## nest  tuples \n",
    "tup  = (1,2,3,4,5)\n",
    "tup2= (num**2  for num in tup ) #this is a generator object\n",
    "tup2 = tuple(i**2 for i in tup) # this is how to create a tuple using generator object\n",
    "print(tup)\n",
    "print(tup2)"
   ]
  },
  {
   "cell_type": "code",
   "execution_count": null,
   "id": "2705cf4e",
   "metadata": {},
   "outputs": [],
   "source": []
  }
 ],
 "metadata": {
  "kernelspec": {
   "display_name": "Python 3",
   "language": "python",
   "name": "python3"
  },
  "language_info": {
   "codemirror_mode": {
    "name": "ipython",
    "version": 3
   },
   "file_extension": ".py",
   "mimetype": "text/x-python",
   "name": "python",
   "nbconvert_exporter": "python",
   "pygments_lexer": "ipython3",
   "version": "3.12.4"
  }
 },
 "nbformat": 4,
 "nbformat_minor": 5
}
