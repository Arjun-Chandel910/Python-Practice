{
 "cells": [
  {
   "cell_type": "markdown",
   "id": "f257aabc",
   "metadata": {},
   "source": [
    "# Set"
   ]
  },
  {
   "cell_type": "code",
   "execution_count": 3,
   "id": "74c2452f",
   "metadata": {},
   "outputs": [
    {
     "name": "stdout",
     "output_type": "stream",
     "text": [
      "{1, 2, 3, 4, 5}\n",
      "True\n"
     ]
    }
   ],
   "source": [
    "mySet= {1,2,3,4,5,5}\n",
    "print(mySet) \n",
    "print(2 in mySet)"
   ]
  },
  {
   "cell_type": "code",
   "execution_count": 26,
   "id": "9893bb27",
   "metadata": {},
   "outputs": [
    {
     "name": "stdout",
     "output_type": "stream",
     "text": [
      "{1, 2, 3, 4, 5, 9}\n",
      "{1, 2, 3, 4, 5, 6, 9}\n",
      "{1, 2, 3, 4, 5}\n"
     ]
    }
   ],
   "source": [
    "s=  {1,2,3,4,5,5,9,9}\n",
    "print(s)\n",
    "s.add(6)\n",
    "s.add(6)\n",
    "print(s)\n",
    "s.remove(9)\n",
    "s.discard(6) # this work even if the element is not in the set , wont give an error like .remove() \n",
    "print(s)\n",
    "\n"
   ]
  },
  {
   "cell_type": "code",
   "execution_count": null,
   "id": "ac99b0cc",
   "metadata": {},
   "outputs": [
    {
     "name": "stdout",
     "output_type": "stream",
     "text": [
      "{1, 2, 3, 4, 5, 7, 8, 9, 11}\n"
     ]
    }
   ],
   "source": [
    "set1 = {1,2,2,3,4,5}\n",
    "set2  = {2,3,7,8,9,11}\n",
    "## union\n",
    "unionSet= set1.union(set2)\n",
    "print(unionSet)\n",
    "\n",
    "##intersectino\n",
    "intersectionSet= set1.intersection(set2)\n",
    "print(intersectionSet)\n"
   ]
  },
  {
   "cell_type": "code",
   "execution_count": null,
   "id": "41578a3f",
   "metadata": {},
   "outputs": [],
   "source": []
  },
  {
   "cell_type": "code",
   "execution_count": null,
   "id": "b0fdbc40",
   "metadata": {},
   "outputs": [],
   "source": []
  }
 ],
 "metadata": {
  "kernelspec": {
   "display_name": "Python 3",
   "language": "python",
   "name": "python3"
  },
  "language_info": {
   "codemirror_mode": {
    "name": "ipython",
    "version": 3
   },
   "file_extension": ".py",
   "mimetype": "text/x-python",
   "name": "python",
   "nbconvert_exporter": "python",
   "pygments_lexer": "ipython3",
   "version": "3.12.4"
  }
 },
 "nbformat": 4,
 "nbformat_minor": 5
}
