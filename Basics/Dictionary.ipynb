{
 "cells": [
  {
   "cell_type": "markdown",
   "id": "1597dd6f",
   "metadata": {},
   "source": [
    "# Dictionary"
   ]
  },
  {
   "cell_type": "code",
   "execution_count": 16,
   "id": "59e87851",
   "metadata": {},
   "outputs": [
    {
     "name": "stdout",
     "output_type": "stream",
     "text": [
      "{'name': 'Arjun', 'age': 20}\n",
      "<class 'int'>\n",
      "{'name': 'Arjun', 'age': 21, 'address': 'Pathankot'}\n",
      "{'name': 'Arjun', 'age': 21}\n"
     ]
    }
   ],
   "source": [
    "myDict ={\"name\":\"Arjun\",\"age\":20}\n",
    "\n",
    "print(myDict)\n",
    "myDict[\"age\"]=21 ## updating \n",
    "print(type(myDict[\"age\"]))\n",
    "\n",
    "myDict[\"address\"] = \"Pathankot\" ## Add \n",
    "print(myDict)\n",
    "\n",
    "del myDict[\"address\"] ## delete \n",
    "print(myDict)\n",
    "\n"
   ]
  },
  {
   "cell_type": "code",
   "execution_count": 21,
   "id": "ff0c6d6e",
   "metadata": {},
   "outputs": [
    {
     "name": "stdout",
     "output_type": "stream",
     "text": [
      "dict_keys(['name', 'age'])\n",
      "dict_values(['Arjun', 21])\n",
      "dict_items([('name', 'Arjun'), ('age', 21)])\n"
     ]
    }
   ],
   "source": [
    "# Dictioary method\n",
    "keys= myDict.keys()\n",
    "print(keys)\n",
    "values= myDict.values()\n",
    "print(values)\n",
    "items= myDict.items()\n",
    "print(items)"
   ]
  },
  {
   "cell_type": "code",
   "execution_count": 6,
   "id": "dd12cb85",
   "metadata": {},
   "outputs": [
    {
     "name": "stdout",
     "output_type": "stream",
     "text": [
      "{'name': 'Aadvik', 'age': 2, 'address': 'Hoshiarpur'}\n",
      "{'name': 'Tanmay', 'age': 2, 'address': 'Hoshiarpur'}\n"
     ]
    }
   ],
   "source": [
    "## shalow copy\n",
    "student  = {\"name\":\"Aadvik\",\"age\":2,\"address\":'Hoshiarpur' }\n",
    "# student2 = student # THIS IS LIKE JUST GIVING A NW NAME TO STUDENT DICT \n",
    "'''\n",
    " this one is just assigning the same memory to studnet2 as student , this is not a copy\n",
    " so if we do      student2[\"name\"]=\"Tanmay\" althought strings a immutable ,\n",
    "   here we are not mutating the string , it works differently for strings,here\n",
    "  just change the memory location for name which stores Tanmay \n",
    "\n",
    "  \n",
    "        THE KEY POINT IN DICTIONARY UPDATION IS , THE IMMUTABLE TYPES WHEN  \n",
    "        UPDATED WILL POINT TO ANOTHER LOCAITON \n",
    "'''\n",
    "\n",
    " \n",
    "student2 = student.copy()\n",
    "student2[\"name\"]=\"Tanmay\"\n",
    "\n",
    "print(student)\n",
    "print(student2)\n",
    "\n",
    "\n"
   ]
  },
  {
   "attachments": {
    "image.png": {
     "image/png": "[encoded data removed]"
    }
   },
   "cell_type": "markdown",
   "id": "8985647f",
   "metadata": {},
   "source": [
    "![image.png](attachment:image.png)"
   ]
  },
  {
   "cell_type": "markdown",
   "id": "80b8f756",
   "metadata": {},
   "source": [
    "# iterating over dict"
   ]
  },
  {
   "cell_type": "code",
   "execution_count": 28,
   "id": "86f788fc",
   "metadata": {},
   "outputs": [
    {
     "name": "stdout",
     "output_type": "stream",
     "text": [
      "name age address \n",
      "Aadvik\n",
      "2\n",
      "Hoshiarpur\n",
      "name : Aadvik\n",
      "age : 2\n",
      "address : Hoshiarpur\n"
     ]
    }
   ],
   "source": [
    "## iterating over keys \n",
    "\n",
    "student  = {\"name\":\"Aadvik\",\"age\":2,\"address\":'Hoshiarpur' }\n",
    "\n",
    "for key in student.keys():\n",
    "    print(key, end=\" \")\n",
    "\n",
    "print()\n",
    "## iterating over vales \n",
    "for value in student.values():\n",
    "    print(value,)\n",
    "\n",
    "## iterating over items\n",
    "for key ,value in student.items():\n",
    "    print(f\"{key } : {value}\")\n",
    "\n",
    "\n",
    "\n",
    "\n",
    "\n",
    "\n",
    "\n"
   ]
  },
  {
   "cell_type": "markdown",
   "id": "f590557d",
   "metadata": {},
   "source": [
    "# Nested Dictionaries"
   ]
  },
  {
   "cell_type": "code",
   "execution_count": null,
   "id": "72735e4b",
   "metadata": {},
   "outputs": [
    {
     "name": "stdout",
     "output_type": "stream",
     "text": [
      "student1 : {'name': 'Arjun', 'age': 20}\n",
      "name : Arjun\n",
      "age : 20\n",
      "student2 : {'name': 'Loveena', 'age': 23}\n",
      "name : Loveena\n",
      "age : 23\n"
     ]
    }
   ],
   "source": [
    "students = {\n",
    "    \"student1\" :{\"name\":\"Arjun\", \"age\":20},\n",
    "    \"student2\" :{\"name\":\"Loveena\", \"age\":23}\n",
    "}\n",
    "for id,info in students.items():\n",
    "    print(f\"{id} : {info}\")\n",
    "    for key,value in info.items():\n",
    "        print(f\"{key} : {value}\")\n"
   ]
  },
  {
   "cell_type": "markdown",
   "id": "c1e1e956",
   "metadata": {},
   "source": [
    "# Dictionary comprehension"
   ]
  },
  {
   "cell_type": "code",
   "execution_count": 41,
   "id": "95bce033",
   "metadata": {},
   "outputs": [
    {
     "name": "stdout",
     "output_type": "stream",
     "text": [
      "{1: 1, 2: 4, 3: 9, 4: 16, 5: 25}\n"
     ]
    }
   ],
   "source": [
    "squares = {x:x**2 for x in range(1,6)}\n",
    "print(squares)"
   ]
  },
  {
   "cell_type": "code",
   "execution_count": 53,
   "id": "b493dd63",
   "metadata": {},
   "outputs": [
    {
     "name": "stdout",
     "output_type": "stream",
     "text": [
      "{'even': [2, 4, 6, 8, 10, 12, 14, 16, 18, 20, 22, 24, 26, 28, 30, 32, 34, 36, 38, 40, 42, 44, 46, 48, 50]}\n"
     ]
    },
    {
     "ename": "KeyError",
     "evalue": "2",
     "output_type": "error",
     "traceback": [
      "\u001b[31m---------------------------------------------------------------------------\u001b[39m",
      "\u001b[31mKeyError\u001b[39m                                  Traceback (most recent call last)",
      "\u001b[36mCell\u001b[39m\u001b[36m \u001b[39m\u001b[32mIn[53]\u001b[39m\u001b[32m, line 4\u001b[39m\n\u001b[32m      2\u001b[39m \u001b[38;5;28mprint\u001b[39m(even)\n\u001b[32m      3\u001b[39m num ={\u001b[32m1\u001b[39m : \u001b[33m\"\u001b[39m\u001b[33mhehe\u001b[39m\u001b[33m\"\u001b[39m}\n\u001b[32m----> \u001b[39m\u001b[32m4\u001b[39m \u001b[38;5;28mprint\u001b[39m(\u001b[43mnum\u001b[49m\u001b[43m[\u001b[49m\u001b[32;43m2\u001b[39;49m\u001b[43m]\u001b[49m)\n",
      "\u001b[31mKeyError\u001b[39m: 2"
     ]
    }
   ],
   "source": [
    "even = {  \"even\":[i for i in range(1,51) if i %2==0]}\n",
    "print(even)\n",
    "num ={1 : \"hehe\"}\n",
    "print(num[2])\n",
    "\n"
   ]
  },
  {
   "cell_type": "code",
   "execution_count": null,
   "id": "10a66832",
   "metadata": {},
   "outputs": [
    {
     "name": "stdout",
     "output_type": "stream",
     "text": [
      "{'1': 1, '2': 1, '3': 1, '4': 1, '5': 1, '6': 1}\n",
      "{1: '1', 2: '9', 3: '3', 4: '4'}\n"
     ]
    }
   ],
   "source": [
    "# count frequency of elements in a list \n",
    "numbers= [ 1,1,1,2,3,3,4,5,6,6]\n",
    "d = {}\n",
    "for num in numbers:\n",
    "    d[f\"{num}\"]=d.get(num,0)+1\n",
    "print(d)\n",
    "\n",
    "\n",
    "## merge two dictionary\n",
    "dict1= {1:\"1\" ,2:\"2\"}\n",
    "dict2 = {2:\"9\",3:\"3\",4:\"4\"}\n",
    "merge_dict = {**dict1,**dict2}   # \n",
    "print(merge_dict)\n"
   ]
  },
  {
   "cell_type": "code",
   "execution_count": null,
   "id": "daf6cb56",
   "metadata": {},
   "outputs": [],
   "source": []
  },
  {
   "cell_type": "code",
   "execution_count": null,
   "id": "20b6d12f",
   "metadata": {},
   "outputs": [],
   "source": []
  },
  {
   "cell_type": "code",
   "execution_count": null,
   "id": "3685f9ec",
   "metadata": {},
   "outputs": [],
   "source": []
  }
 ],
 "metadata": {
  "kernelspec": {
   "display_name": "Python 3",
   "language": "python",
   "name": "python3"
  },
  "language_info": {
   "codemirror_mode": {
    "name": "ipython",
    "version": 3
   },
   "file_extension": ".py",
   "mimetype": "text/x-python",
   "name": "python",
   "nbconvert_exporter": "python",
   "pygments_lexer": "ipython3",
   "version": "3.12.4"
  }
 },
 "nbformat": 4,
 "nbformat_minor": 5
}
