{
 "cells": [
  {
   "cell_type": "markdown",
   "id": "f630a55e",
   "metadata": {},
   "source": [
    "## Error Handling :\n"
   ]
  },
  {
   "cell_type": "code",
   "execution_count": 20,
   "id": "c757ab78",
   "metadata": {},
   "outputs": [
    {
     "name": "stdout",
     "output_type": "stream",
     "text": [
      "name 'b' is not defined\n"
     ]
    }
   ],
   "source": [
    "## exception handling\n",
    "try:\n",
    "    a=b\n",
    "    ## e is aliast\n",
    "except NameError as e: ## NameError is a class which catches these errors ,\n",
    "    #  we can let the error and se on the output window which erorr is genererating and we can use those classes .\n",
    "    print(e)\n",
    "\n",
    "    "
   ]
  },
  {
   "cell_type": "code",
   "execution_count": 12,
   "id": "e0f21b2d",
   "metadata": {},
   "outputs": [
    {
     "name": "stdout",
     "output_type": "stream",
     "text": [
      "division by zero not alllowed\n"
     ]
    }
   ],
   "source": [
    "try :\n",
    "    a= 10/0\n",
    "except ZeroDivisionError as e :\n",
    "    print(e ,\"not alllowed\")\n",
    "    \n"
   ]
  },
  {
   "cell_type": "code",
   "execution_count": 19,
   "id": "9a93ea3e",
   "metadata": {},
   "outputs": [
    {
     "name": "stdout",
     "output_type": "stream",
     "text": [
      "name 'b' is not defined\n"
     ]
    }
   ],
   "source": [
    "try : \n",
    "    a=b\n",
    "except ZeroDivisionError as e: ## this will obviously not handle the above error \n",
    "    print(e)\n",
    "except Exception as e : ## this is the base class of exceptions so this handles all the errors \n",
    "    print(e)"
   ]
  },
  {
   "cell_type": "code",
   "execution_count": null,
   "id": "4f64d6b7",
   "metadata": {},
   "outputs": [
    {
     "name": "stdout",
     "output_type": "stream",
     "text": [
      "0.29411764705882354\n"
     ]
    }
   ],
   "source": [
    "# try , except , else \n",
    "try :\n",
    "    num= int(input(\"Enter a number : \"))\n",
    "    result =10/num\n",
    "except Exception as e:\n",
    "    print(e)\n",
    "else : \n",
    "    print(result)"
   ]
  },
  {
   "cell_type": "code",
   "execution_count": 33,
   "id": "15c30cc2",
   "metadata": {},
   "outputs": [
    {
     "name": "stdout",
     "output_type": "stream",
     "text": [
      "1.25\n",
      "execution completed\n"
     ]
    }
   ],
   "source": [
    "# try , except else ,finally\n",
    "''' differnce b/w else and finally is , else only executes when ther error does not occur\n",
    "    but if we want somehing to run irrespective of the error occuring or not , finally is used.\n",
    "\n",
    "'''\n",
    "try :\n",
    "    num= int(input(\"Enter a number : \"))\n",
    "    result =10/num\n",
    "except Exception as e:\n",
    "    print(e)\n",
    "else : \n",
    "    print(result)\n",
    "finally :\n",
    "     print(\"execution completed\")\n"
   ]
  },
  {
   "cell_type": "code",
   "execution_count": 48,
   "id": "ed6b4159",
   "metadata": {},
   "outputs": [
    {
     "name": "stdout",
     "output_type": "stream",
     "text": [
      "dskfhdskjfjdkhf\n",
      "file closed\n"
     ]
    }
   ],
   "source": [
    "## exception handling with file hadling\n",
    "try:\n",
    "    file = open(\"example.txt\", 'r') ## using \"with open \" automatically closes the file .\n",
    "    content= file.read()\n",
    "    print(content)\n",
    "except Exception as e :\n",
    "    print(e)\n",
    "finally : \n",
    "    if 'file' in locals() or not file.closed:\n",
    "        file.close()\n",
    "        print(\"file closed\")\n",
    "     "
   ]
  },
  {
   "cell_type": "code",
   "execution_count": null,
   "id": "54f08afc",
   "metadata": {},
   "outputs": [],
   "source": []
  }
 ],
 "metadata": {
  "kernelspec": {
   "display_name": "Python 3",
   "language": "python",
   "name": "python3"
  },
  "language_info": {
   "codemirror_mode": {
    "name": "ipython",
    "version": 3
   },
   "file_extension": ".py",
   "mimetype": "text/x-python",
   "name": "python",
   "nbconvert_exporter": "python",
   "pygments_lexer": "ipython3",
   "version": "3.12.4"
  }
 },
 "nbformat": 4,
 "nbformat_minor": 5
}
