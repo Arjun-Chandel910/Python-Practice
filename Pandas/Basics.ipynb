{
 "cells": [
  {
   "cell_type": "markdown",
   "id": "6c261319",
   "metadata": {},
   "source": [
    "## Pandas : \n"
   ]
  },
  {
   "cell_type": "code",
   "execution_count": null,
   "id": "56d27141",
   "metadata": {},
   "outputs": [],
   "source": [
    "pip install pandas"
   ]
  },
  {
   "cell_type": "code",
   "execution_count": null,
   "id": "e5db2e53",
   "metadata": {},
   "outputs": [],
   "source": [
    "import pandas as pd \n",
    "## series  is a one d array like object\n",
    "data = [1,2,3,4,4,2] \n",
    "series = pd.Series(data)\n",
    "print(series)"
   ]
  },
  {
   "cell_type": "code",
   "execution_count": null,
   "id": "c1635b5f",
   "metadata": {},
   "outputs": [],
   "source": [
    "# from dict\n",
    "my_dict = { 'a':1,'b':2,'c':3}\n",
    "series = pd.Series(my_dict)\n",
    "# print(series)\n",
    "\n",
    "index = [\"a\",\"b\",\"c\"]\n",
    "values = [1,2,3]\n",
    "print(pd.Series(values , index=index))"
   ]
  },
  {
   "cell_type": "code",
   "execution_count": null,
   "id": "4652f751",
   "metadata": {},
   "outputs": [],
   "source": [
    "## data frame ->  has multiple rows and column \n",
    "data = { \n",
    "    \"Name\":[\"arjun\",\"sahil\",\"sayam\"],\n",
    "    \"Age\" : [20,21,19],\n",
    "    \"City\": [\"Sujanpur\",\"Pathankot\",\"Kapurthala\"]\n",
    "}\n",
    "df = pd.DataFrame(data)\n",
    "df.dtypes\n"
   ]
  },
  {
   "cell_type": "code",
   "execution_count": null,
   "id": "65063420",
   "metadata": {},
   "outputs": [],
   "source": [
    "# read a csv file \n",
    "\n",
    "df1=pd.read_csv('practice.csv', encoding='windows-1252')\n",
    "df1.head(5)\n",
    "df1.tail(5)"
   ]
  },
  {
   "cell_type": "code",
   "execution_count": null,
   "id": "baae7c01",
   "metadata": {},
   "outputs": [],
   "source": [
    "# label based indexing \n",
    "print(df)\n",
    "df.loc[2]"
   ]
  },
  {
   "cell_type": "code",
   "execution_count": null,
   "id": "c2f38014",
   "metadata": {},
   "outputs": [],
   "source": [
    "df.iloc[0]  # integer based indexing\n"
   ]
  },
  {
   "cell_type": "code",
   "execution_count": null,
   "id": "6bf7608a",
   "metadata": {},
   "outputs": [],
   "source": [
    "df.at[2,\"Age\"]\n",
    "df.iat[2,2]"
   ]
  },
  {
   "cell_type": "code",
   "execution_count": null,
   "id": "9a855b58",
   "metadata": {},
   "outputs": [],
   "source": [
    "df\n",
    "df[\"salary\"]= [2000,20,2000]  # adding a column\n",
    "df\n",
    "\n",
    "# removing a cloumn\n",
    "\n",
    "df.drop('salary', axis=1) # to make permatent changes werite inplace = \"true\n",
    "df\n",
    "\n",
    "df.drop(\"salary\", axis = 1, inplace=True)\n",
    "df"
   ]
  },
  {
   "cell_type": "code",
   "execution_count": null,
   "id": "b9068662",
   "metadata": {},
   "outputs": [],
   "source": [
    "df[\"Age\"] = df[\"Age\"]+1\n",
    "df1[\"Name\"]=df1[\"Name\"].str.lower()\n",
    "df1\n"
   ]
  },
  {
   "cell_type": "code",
   "execution_count": 123,
   "id": "20b50ce1",
   "metadata": {},
   "outputs": [
    {
     "data": {
      "text/html": [
       "<div>\n",
       "<style scoped>\n",
       "    .dataframe tbody tr th:only-of-type {\n",
       "        vertical-align: middle;\n",
       "    }\n",
       "\n",
       "    .dataframe tbody tr th {\n",
       "        vertical-align: top;\n",
       "    }\n",
       "\n",
       "    .dataframe thead th {\n",
       "        text-align: right;\n",
       "    }\n",
       "</style>\n",
       "<table border=\"1\" class=\"dataframe\">\n",
       "  <thead>\n",
       "    <tr style=\"text-align: right;\">\n",
       "      <th></th>\n",
       "      <th>Emp ID</th>\n",
       "      <th>Monthly Salary</th>\n",
       "      <th>Bonus %</th>\n",
       "      <th>Hours Worked</th>\n",
       "      <th>Monthly Sales</th>\n",
       "      <th>Defect Rate (%)</th>\n",
       "    </tr>\n",
       "  </thead>\n",
       "  <tbody>\n",
       "    <tr>\n",
       "      <th>count</th>\n",
       "      <td>50.00000</td>\n",
       "      <td>46.000000</td>\n",
       "      <td>47.000000</td>\n",
       "      <td>50.00000</td>\n",
       "      <td>12.000000</td>\n",
       "      <td>8.000000</td>\n",
       "    </tr>\n",
       "    <tr>\n",
       "      <th>mean</th>\n",
       "      <td>325.50000</td>\n",
       "      <td>114884.543478</td>\n",
       "      <td>12.234043</td>\n",
       "      <td>173.64000</td>\n",
       "      <td>216054.166667</td>\n",
       "      <td>2.752500</td>\n",
       "    </tr>\n",
       "    <tr>\n",
       "      <th>std</th>\n",
       "      <td>14.57738</td>\n",
       "      <td>37475.911632</td>\n",
       "      <td>5.595855</td>\n",
       "      <td>16.36043</td>\n",
       "      <td>152894.014384</td>\n",
       "      <td>1.263959</td>\n",
       "    </tr>\n",
       "    <tr>\n",
       "      <th>min</th>\n",
       "      <td>301.00000</td>\n",
       "      <td>45546.000000</td>\n",
       "      <td>5.000000</td>\n",
       "      <td>140.00000</td>\n",
       "      <td>51402.000000</td>\n",
       "      <td>1.430000</td>\n",
       "    </tr>\n",
       "    <tr>\n",
       "      <th>25%</th>\n",
       "      <td>313.25000</td>\n",
       "      <td>88901.000000</td>\n",
       "      <td>5.000000</td>\n",
       "      <td>161.75000</td>\n",
       "      <td>84866.250000</td>\n",
       "      <td>1.807500</td>\n",
       "    </tr>\n",
       "    <tr>\n",
       "      <th>50%</th>\n",
       "      <td>325.50000</td>\n",
       "      <td>118601.500000</td>\n",
       "      <td>15.000000</td>\n",
       "      <td>176.50000</td>\n",
       "      <td>181912.500000</td>\n",
       "      <td>2.165000</td>\n",
       "    </tr>\n",
       "    <tr>\n",
       "      <th>75%</th>\n",
       "      <td>337.75000</td>\n",
       "      <td>142235.000000</td>\n",
       "      <td>15.000000</td>\n",
       "      <td>188.00000</td>\n",
       "      <td>311835.000000</td>\n",
       "      <td>4.110000</td>\n",
       "    </tr>\n",
       "    <tr>\n",
       "      <th>max</th>\n",
       "      <td>350.00000</td>\n",
       "      <td>178023.000000</td>\n",
       "      <td>20.000000</td>\n",
       "      <td>197.00000</td>\n",
       "      <td>480197.000000</td>\n",
       "      <td>4.370000</td>\n",
       "    </tr>\n",
       "  </tbody>\n",
       "</table>\n",
       "</div>"
      ],
      "text/plain": [
       "          Emp ID  Monthly Salary    Bonus %  Hours Worked  Monthly Sales  \\\n",
       "count   50.00000       46.000000  47.000000      50.00000      12.000000   \n",
       "mean   325.50000   114884.543478  12.234043     173.64000  216054.166667   \n",
       "std     14.57738    37475.911632   5.595855      16.36043  152894.014384   \n",
       "min    301.00000    45546.000000   5.000000     140.00000   51402.000000   \n",
       "25%    313.25000    88901.000000   5.000000     161.75000   84866.250000   \n",
       "50%    325.50000   118601.500000  15.000000     176.50000  181912.500000   \n",
       "75%    337.75000   142235.000000  15.000000     188.00000  311835.000000   \n",
       "max    350.00000   178023.000000  20.000000     197.00000  480197.000000   \n",
       "\n",
       "       Defect Rate (%)  \n",
       "count         8.000000  \n",
       "mean          2.752500  \n",
       "std           1.263959  \n",
       "min           1.430000  \n",
       "25%           1.807500  \n",
       "50%           2.165000  \n",
       "75%           4.110000  \n",
       "max           4.370000  "
      ]
     },
     "execution_count": 123,
     "metadata": {},
     "output_type": "execute_result"
    }
   ],
   "source": [
    "df1.describe() ## statiscal summary \n"
   ]
  },
  {
   "cell_type": "code",
   "execution_count": null,
   "id": "54be774e",
   "metadata": {},
   "outputs": [],
   "source": []
  },
  {
   "cell_type": "code",
   "execution_count": null,
   "id": "ceb9dc78",
   "metadata": {},
   "outputs": [],
   "source": []
  }
 ],
 "metadata": {
  "kernelspec": {
   "display_name": "Python 3",
   "language": "python",
   "name": "python3"
  },
  "language_info": {
   "codemirror_mode": {
    "name": "ipython",
    "version": 3
   },
   "file_extension": ".py",
   "mimetype": "text/x-python",
   "name": "python",
   "nbconvert_exporter": "python",
   "pygments_lexer": "ipython3",
   "version": "3.12.4"
  }
 },
 "nbformat": 4,
 "nbformat_minor": 5
}
