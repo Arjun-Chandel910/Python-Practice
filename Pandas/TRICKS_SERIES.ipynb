{
 "cells": [
  {
   "cell_type": "markdown",
   "id": "ad918458",
   "metadata": {},
   "source": [
    "## Series Tricks"
   ]
  },
  {
   "cell_type": "code",
   "execution_count": 22,
   "id": "a608e113",
   "metadata": {},
   "outputs": [],
   "source": [
    "import pandas as pd \n",
    "import numpy as np\n",
    "vk=pd.read_csv(\"kohli_ipl.csv\").loc[:,\"runs\"]\n",
    "subs = pd.read_csv('subs.csv').iloc[:,0]\n"
   ]
  },
  {
   "cell_type": "code",
   "execution_count": 17,
   "id": "73505bd6",
   "metadata": {},
   "outputs": [
    {
     "data": {
      "text/plain": [
       "1884"
      ]
     },
     "execution_count": 17,
     "metadata": {},
     "output_type": "execute_result"
    }
   ],
   "source": [
    "subs\n",
    "## as type \n",
    "import sys \n",
    "sys.getsizeof(vk)\n"
   ]
  },
  {
   "cell_type": "code",
   "execution_count": 18,
   "id": "0695dd28",
   "metadata": {},
   "outputs": [
    {
     "data": {
      "text/plain": [
       "1024"
      ]
     },
     "execution_count": 18,
     "metadata": {},
     "output_type": "execute_result"
    }
   ],
   "source": [
    "sys.getsizeof(vk.astype(\"int32\"))"
   ]
  },
  {
   "cell_type": "code",
   "execution_count": 19,
   "id": "0e51acc1",
   "metadata": {},
   "outputs": [
    {
     "data": {
      "text/plain": [
       "167"
      ]
     },
     "execution_count": 19,
     "metadata": {},
     "output_type": "execute_result"
    }
   ],
   "source": [
    "# between \n",
    "vk[vk.between(0,50)].size"
   ]
  },
  {
   "cell_type": "code",
   "execution_count": 20,
   "id": "1acda706",
   "metadata": {},
   "outputs": [
    {
     "data": {
      "text/plain": [
       "0      False\n",
       "1      False\n",
       "2      False\n",
       "3      False\n",
       "4       True\n",
       "       ...  \n",
       "210     True\n",
       "211     True\n",
       "212     True\n",
       "213     True\n",
       "214     True\n",
       "Name: runs, Length: 215, dtype: bool"
      ]
     },
     "execution_count": 20,
     "metadata": {},
     "output_type": "execute_result"
    }
   ],
   "source": [
    "# drop_duplicates  (even if one value in the row is a duplicate)\n",
    "vk.drop_duplicates()\n",
    "vk.duplicated()"
   ]
  },
  {
   "cell_type": "code",
   "execution_count": 23,
   "id": "5336e570",
   "metadata": {},
   "outputs": [
    {
     "data": {
      "text/plain": [
       "0    1.0\n",
       "1    2.0\n",
       "2    3.0\n",
       "3    4.0\n",
       "4    NaN\n",
       "5    5.0\n",
       "6    6.0\n",
       "7    NaN\n",
       "8    NaN\n",
       "9    9.0\n",
       "dtype: float64"
      ]
     },
     "execution_count": 23,
     "metadata": {},
     "output_type": "execute_result"
    }
   ],
   "source": [
    "temp = pd.Series([1,2,3,4,np.nan, 5,6,np.nan,np.nan,9])\n",
    "temp"
   ]
  },
  {
   "cell_type": "code",
   "execution_count": 30,
   "id": "128ee201",
   "metadata": {},
   "outputs": [
    {
     "data": {
      "text/plain": [
       "np.int64(3)"
      ]
     },
     "execution_count": 30,
     "metadata": {},
     "output_type": "execute_result"
    }
   ],
   "source": [
    "temp.size  ## even counts empty values \n",
    "temp.count() ## does not count empty values \n",
    "temp.isnull().sum()"
   ]
  },
  {
   "cell_type": "code",
   "execution_count": 34,
   "id": "7ca0df9c",
   "metadata": {},
   "outputs": [
    {
     "data": {
      "text/plain": [
       "0    1.0\n",
       "1    2.0\n",
       "2    3.0\n",
       "3    4.0\n",
       "4    0.0\n",
       "5    5.0\n",
       "6    6.0\n",
       "7    0.0\n",
       "8    0.0\n",
       "9    9.0\n",
       "dtype: float64"
      ]
     },
     "execution_count": 34,
     "metadata": {},
     "output_type": "execute_result"
    }
   ],
   "source": [
    "## remove all missing values in one go \n",
    "temp.dropna().size\n",
    "temp\n",
    "## replace missing value \n",
    "temp.fillna(0)"
   ]
  },
  {
   "cell_type": "code",
   "execution_count": null,
   "id": "af96ebff",
   "metadata": {},
   "outputs": [
    {
     "data": {
      "text/plain": [
       "9       3\n",
       "12      3\n",
       "13     11\n",
       "15      2\n",
       "25      2\n",
       "34      3\n",
       "49     11\n",
       "66      3\n",
       "75     11\n",
       "157     3\n",
       "Name: runs, dtype: int64"
      ]
     },
     "execution_count": 42,
     "metadata": {},
     "output_type": "execute_result"
    }
   ],
   "source": [
    "vk[vk.isin([2,3,11])] ## to check multiple elements in the series "
   ]
  },
  {
   "cell_type": "code",
   "execution_count": 52,
   "id": "db9486e3",
   "metadata": {},
   "outputs": [
    {
     "name": "stdout",
     "output_type": "stream",
     "text": [
      "Arjun\n"
     ]
    }
   ],
   "source": [
    "## \n",
    "n = \"Arjun Chandel\"\n",
    "def firstname(n):\n",
    "    l = n.split() \n",
    "    return l [0]\n",
    "\n",
    "print(firstname(n))"
   ]
  },
  {
   "cell_type": "code",
   "execution_count": null,
   "id": "2945af81",
   "metadata": {},
   "outputs": [],
   "source": []
  },
  {
   "cell_type": "code",
   "execution_count": null,
   "id": "533f6004",
   "metadata": {},
   "outputs": [],
   "source": [
    "## note  ,if we make changes int using the head or the tail , it will reflect back on the original data as well\n",
    "## because head and tail returns the view of the data and not a copy of the data \n",
    "# always use vk.head().copy()"
   ]
  },
  {
   "cell_type": "code",
   "execution_count": null,
   "id": "a3f0fea3",
   "metadata": {},
   "outputs": [],
   "source": []
  },
  {
   "cell_type": "code",
   "execution_count": null,
   "id": "9b01bcce",
   "metadata": {},
   "outputs": [],
   "source": []
  }
 ],
 "metadata": {
  "kernelspec": {
   "display_name": "Python 3",
   "language": "python",
   "name": "python3"
  },
  "language_info": {
   "codemirror_mode": {
    "name": "ipython",
    "version": 3
   },
   "file_extension": ".py",
   "mimetype": "text/x-python",
   "name": "python",
   "nbconvert_exporter": "python",
   "pygments_lexer": "ipython3",
   "version": "3.12.4"
  }
 },
 "nbformat": 4,
 "nbformat_minor": 5
}
