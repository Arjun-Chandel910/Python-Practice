{
 "cells": [
  {
   "cell_type": "markdown",
   "id": "1b5539a6",
   "metadata": {},
   "source": [
    "##                                                         IPL Analysis"
   ]
  },
  {
   "cell_type": "code",
   "execution_count": null,
   "id": "6baee38d",
   "metadata": {},
   "outputs": [],
   "source": [
    "import pandas as pd \n",
    "ipl = pd.read_csv(\"ipl-matches.csv\")\n",
    "ipl.info()"
   ]
  },
  {
   "cell_type": "code",
   "execution_count": null,
   "id": "b9bd2e5a",
   "metadata": {},
   "outputs": [],
   "source": [
    "\n",
    "\n",
    "ipl.head(1)\n",
    "##1. most successful team\n",
    "ipl[ipl[\"MatchNumber\"]==\"Final\"][[\"WinningTeam\"]].value_counts().plot(kind=\"bar\")"
   ]
  },
  {
   "cell_type": "code",
   "execution_count": null,
   "id": "c6270926",
   "metadata": {},
   "outputs": [],
   "source": [
    "# 2.\tPlayer of the Match most wins\n",
    "ipl[\"Player_of_Match\"].value_counts().head(10).plot(kind=\"bar\")\n"
   ]
  },
  {
   "cell_type": "code",
   "execution_count": null,
   "id": "dab9ab45",
   "metadata": {},
   "outputs": [],
   "source": [
    "# 3. Toss advantage\n",
    "(ipl[ipl[\"TossWinner\"]==ipl[\"WinningTeam\"]].shape[0]  *100)/ipl.shape[0]"
   ]
  },
  {
   "cell_type": "code",
   "execution_count": null,
   "id": "2f2d2b7a",
   "metadata": {},
   "outputs": [],
   "source": [
    "## toss decision trend \n",
    "ipl[\"TossDecision\"].value_counts().plot(kind='pie')"
   ]
  },
  {
   "cell_type": "code",
   "execution_count": null,
   "id": "3a787776",
   "metadata": {},
   "outputs": [],
   "source": [
    "#5. Venue Analysis\n",
    "ipl[\"Venue\"].value_counts()\n",
    "# ipl[[\"Team\",\"Venue\",\"WinningTeam\"]]\n",
    "ipl[[\"WinningTeam\",\"Venue\"]].value_counts().head(10).plot(kind=\"pie\")\n",
    "# ipl"
   ]
  },
  {
   "cell_type": "code",
   "execution_count": null,
   "id": "238035ae",
   "metadata": {},
   "outputs": [],
   "source": [
    "# 6.\tCity-wise Match Distribution\n",
    "ipl[\"City\"].value_counts().head(12).plot(kind=\"bar\")"
   ]
  },
  {
   "cell_type": "code",
   "execution_count": null,
   "id": "e79eb4cb",
   "metadata": {},
   "outputs": [],
   "source": [
    "# 7.\tSuper Over Frequency\n",
    "superOverMatches=ipl[ipl[\"SuperOver\"]==\"Y\"]\n",
    "superOverMatches[\"Season\"].value_counts().plot(kind=\"bar\")\n"
   ]
  },
  {
   "cell_type": "code",
   "execution_count": 124,
   "id": "6acd5e47",
   "metadata": {},
   "outputs": [
    {
     "data": {
      "text/plain": [
       "np.float64(6.239685658153242)"
      ]
     },
     "execution_count": 124,
     "metadata": {},
     "output_type": "execute_result"
    },
    {
     "data": {
      "image/png": "[encoded data removed]",
      "text/plain": [
       "<Figure size 640x480 with 1 Axes>"
      ]
     },
     "metadata": {},
     "output_type": "display_data"
    }
   ],
   "source": [
    "# 8.\tMargin of Victory\n",
    "wicM = ipl[ipl[\"WonBy\"]==\"Wickets\"]\n",
    "runM = ipl[ipl[\"WonBy\"]==\"Runs\"]\n",
    "ipl[\"WonBy\"].value_counts().plot(kind=\"pie\")\n",
    "runM[\"Margin\"].mean()\n",
    "wicM[\"Margin\"].mean()\n",
    "\n"
   ]
  },
  {
   "cell_type": "code",
   "execution_count": null,
   "id": "5adce1ac",
   "metadata": {},
   "outputs": [],
   "source": []
  },
  {
   "cell_type": "code",
   "execution_count": null,
   "id": "db71f5fd",
   "metadata": {},
   "outputs": [],
   "source": []
  }
 ],
 "metadata": {
  "kernelspec": {
   "display_name": "Python 3",
   "language": "python",
   "name": "python3"
  },
  "language_info": {
   "codemirror_mode": {
    "name": "ipython",
    "version": 3
   },
   "file_extension": ".py",
   "mimetype": "text/x-python",
   "name": "python",
   "nbconvert_exporter": "python",
   "pygments_lexer": "ipython3",
   "version": "3.12.4"
  }
 },
 "nbformat": 4,
 "nbformat_minor": 5
}
