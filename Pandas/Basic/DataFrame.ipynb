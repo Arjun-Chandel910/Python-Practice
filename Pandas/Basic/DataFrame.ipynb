{
 "cells": [
  {
   "cell_type": "markdown",
   "id": "167d6753",
   "metadata": {},
   "source": [
    "# Dataframe\n"
   ]
  },
  {
   "cell_type": "code",
   "execution_count": null,
   "id": "741e320e",
   "metadata": {},
   "outputs": [],
   "source": [
    "import pandas as pd \n",
    "movies = pd.read_csv(\"movies.csv\")\n",
    "movies.head(5)"
   ]
  },
  {
   "cell_type": "code",
   "execution_count": null,
   "id": "00daf95d",
   "metadata": {},
   "outputs": [],
   "source": [
    "ipl = pd.read_csv(\"ipl-matches.csv\")\n",
    "ipl\n"
   ]
  },
  {
   "cell_type": "code",
   "execution_count": null,
   "id": "03b0c757",
   "metadata": {},
   "outputs": [],
   "source": [
    "ipl.shape\n",
    "ipl.dtypes"
   ]
  },
  {
   "cell_type": "code",
   "execution_count": null,
   "id": "def3ad33",
   "metadata": {},
   "outputs": [],
   "source": [
    "ipl.index\n",
    "title = ipl.iloc[:,1]\n",
    "title\n",
    "ipl.info()\n"
   ]
  },
  {
   "cell_type": "code",
   "execution_count": null,
   "id": "fc88405a",
   "metadata": {},
   "outputs": [],
   "source": [
    "ipl.isnull().sum()\n",
    "ipl.duplicated().sum()"
   ]
  },
  {
   "cell_type": "code",
   "execution_count": null,
   "id": "ff839a5e",
   "metadata": {},
   "outputs": [],
   "source": [
    "movies.head(2)\n",
    "movies.rename(columns={\"summary\":\"storyline\" , \"actors\":\"cast\"},inplace=True)\n",
    "movies"
   ]
  },
  {
   "cell_type": "code",
   "execution_count": null,
   "id": "3665366f",
   "metadata": {},
   "outputs": [],
   "source": [
    "type(movies)"
   ]
  },
  {
   "cell_type": "code",
   "execution_count": null,
   "id": "4f56b6f5",
   "metadata": {},
   "outputs": [],
   "source": [
    "ipl.head(1)\n",
    "\n",
    "## row indexing \n",
    "print(ipl.iloc[0:1])\n",
    "# print(ipl.iloc[0:5])"
   ]
  },
  {
   "cell_type": "code",
   "execution_count": null,
   "id": "b4ba6e4b",
   "metadata": {},
   "outputs": [],
   "source": [
    "pp = ipl[\"Player_of_Match\"]\n",
    "# pp.value_counts().head(10).plot(kind=\"pie\")\n",
    "wt = ipl[\"WinningTeam\"]\n",
    "wt.value_counts().plot(kind=\"bar\")"
   ]
  },
  {
   "cell_type": "code",
   "execution_count": null,
   "id": "d14a48e2",
   "metadata": {},
   "outputs": [],
   "source": [
    "mno= ipl[[\"MatchNumber\",\"WinningTeam\"]]\n",
    "win = mno[\"MatchNumber\"]\n",
    "mno[win==\"Final\"]\n",
    "((ipl[ipl[\"MatchNumber\"] ==\"Final\"])[\"WinningTeam\"]).value_counts()\n",
    "# mno[mno==\"Final\"].count()\n",
    "ipl.loc[0:3,\"WinningTeam\"]"
   ]
  },
  {
   "cell_type": "markdown",
   "id": "75c1c562",
   "metadata": {},
   "source": [
    "## Data Filtering: "
   ]
  },
  {
   "cell_type": "code",
   "execution_count": null,
   "id": "c86d2c47",
   "metadata": {},
   "outputs": [],
   "source": [
    "## ipl \n",
    "\n",
    "# find all the final winners \n",
    "ipl.head(2)\n",
    "ipl[\"MatchNumber\"]==\"Final\"\n",
    "ipl[ipl[\"MatchNumber\"]==\"Final\"][[\"Season\",\"WinningTeam\"]]"
   ]
  },
  {
   "cell_type": "code",
   "execution_count": null,
   "id": "70fdd707",
   "metadata": {},
   "outputs": [],
   "source": [
    "## how many super over finnishes have occured\n",
    "ipl\n",
    "ipl[ipl[\"SuperOver\"]==\"Y\"][[\"Team1\",\"Team2\", \"WinningTeam\"]]"
   ]
  },
  {
   "cell_type": "code",
   "execution_count": null,
   "id": "550bab01",
   "metadata": {},
   "outputs": [],
   "source": [
    "## how many match has csk won in kolkata\n",
    "ipl[(ipl[\"City\"]==\"Kolkata\") & (ipl[\"WinningTeam\"]==\"Chennai Super Kings\")].shape[0]\n"
   ]
  },
  {
   "cell_type": "code",
   "execution_count": null,
   "id": "b9ff710b",
   "metadata": {},
   "outputs": [],
   "source": [
    "# toss winner is the match winner in percentage\n",
    "(ipl[ipl[\"TossWinner\"]==ipl[\"WinningTeam\"]].shape[0]  *100)/ipl.shape[0] \n"
   ]
  },
  {
   "cell_type": "code",
   "execution_count": null,
   "id": "9b3dfece",
   "metadata": {},
   "outputs": [],
   "source": [
    "# movies rating > 7.5 and genere Action \n",
    "movies[(movies[\"genres\"].str.split(\"|\").apply(lambda x:\"Action\" in x)) & (movies[\"imdb_rating\"]>7.5)]\n"
   ]
  },
  {
   "cell_type": "code",
   "execution_count": null,
   "id": "78937e3f",
   "metadata": {},
   "outputs": [],
   "source": [
    "# adding a new column \n",
    "movies[\"Country\"]= \"India\"\n"
   ]
  },
  {
   "cell_type": "code",
   "execution_count": null,
   "id": "8448ae45",
   "metadata": {},
   "outputs": [],
   "source": [
    "movies.dropna() ## remove the null values \n"
   ]
  },
  {
   "cell_type": "code",
   "execution_count": 216,
   "id": "4acbea7a",
   "metadata": {},
   "outputs": [
    {
     "name": "stdout",
     "output_type": "stream",
     "text": [
      "<class 'pandas.core.frame.DataFrame'>\n",
      "RangeIndex: 1629 entries, 0 to 1628\n",
      "Data columns (total 19 columns):\n",
      " #   Column            Non-Null Count  Dtype  \n",
      "---  ------            --------------  -----  \n",
      " 0   title_x           1629 non-null   object \n",
      " 1   imdb_id           1629 non-null   object \n",
      " 2   poster_path       1526 non-null   object \n",
      " 3   wiki_link         1629 non-null   object \n",
      " 4   title_y           1629 non-null   object \n",
      " 5   original_title    1629 non-null   object \n",
      " 6   is_adult          1629 non-null   int32  \n",
      " 7   year_of_release   1629 non-null   int64  \n",
      " 8   runtime           1629 non-null   object \n",
      " 9   genres            1629 non-null   object \n",
      " 10  imdb_rating       1629 non-null   float64\n",
      " 11  imdb_votes        1629 non-null   int64  \n",
      " 12  story             1609 non-null   object \n",
      " 13  storyline         1629 non-null   object \n",
      " 14  tagline           557 non-null    object \n",
      " 15  cast              1624 non-null   object \n",
      " 16  wins_nominations  707 non-null    object \n",
      " 17  release_date      1522 non-null   object \n",
      " 18  Country           1629 non-null   object \n",
      "dtypes: float64(1), int32(1), int64(2), object(15)\n",
      "memory usage: 235.6+ KB\n"
     ]
    }
   ],
   "source": [
    "# movies.info()\n",
    "\n",
    "\n",
    "\n",
    "## chaning data type\n",
    "movies[\"is_adult\"]=movies[\"is_adult\"].astype(\"int32\")\n",
    "movies.info()\n"
   ]
  },
  {
   "cell_type": "code",
   "execution_count": 218,
   "id": "3c7b1db3",
   "metadata": {},
   "outputs": [
    {
     "data": {
      "text/html": [
       "<div>\n",
       "<style scoped>\n",
       "    .dataframe tbody tr th:only-of-type {\n",
       "        vertical-align: middle;\n",
       "    }\n",
       "\n",
       "    .dataframe tbody tr th {\n",
       "        vertical-align: top;\n",
       "    }\n",
       "\n",
       "    .dataframe thead th {\n",
       "        text-align: right;\n",
       "    }\n",
       "</style>\n",
       "<table border=\"1\" class=\"dataframe\">\n",
       "  <thead>\n",
       "    <tr style=\"text-align: right;\">\n",
       "      <th></th>\n",
       "      <th>ID</th>\n",
       "      <th>City</th>\n",
       "      <th>Date</th>\n",
       "      <th>Season</th>\n",
       "      <th>MatchNumber</th>\n",
       "      <th>Team1</th>\n",
       "      <th>Team2</th>\n",
       "      <th>Venue</th>\n",
       "      <th>TossWinner</th>\n",
       "      <th>TossDecision</th>\n",
       "      <th>SuperOver</th>\n",
       "      <th>WinningTeam</th>\n",
       "      <th>WonBy</th>\n",
       "      <th>Margin</th>\n",
       "      <th>method</th>\n",
       "      <th>Player_of_Match</th>\n",
       "      <th>Team1Players</th>\n",
       "      <th>Team2Players</th>\n",
       "      <th>Umpire1</th>\n",
       "      <th>Umpire2</th>\n",
       "    </tr>\n",
       "  </thead>\n",
       "  <tbody>\n",
       "    <tr>\n",
       "      <th>945</th>\n",
       "      <td>335986</td>\n",
       "      <td>Kolkata</td>\n",
       "      <td>2008-04-20</td>\n",
       "      <td>2007/08</td>\n",
       "      <td>4</td>\n",
       "      <td>Kolkata Knight Riders</td>\n",
       "      <td>Deccan Chargers</td>\n",
       "      <td>Eden Gardens</td>\n",
       "      <td>Deccan Chargers</td>\n",
       "      <td>bat</td>\n",
       "      <td>N</td>\n",
       "      <td>Kolkata Knight Riders</td>\n",
       "      <td>Wickets</td>\n",
       "      <td>5.0</td>\n",
       "      <td>NaN</td>\n",
       "      <td>DJ Hussey</td>\n",
       "      <td>['WP Saha', 'BB McCullum', 'RT Ponting', 'SC G...</td>\n",
       "      <td>['AC Gilchrist', 'Y Venugopal Rao', 'VVS Laxma...</td>\n",
       "      <td>BF Bowden</td>\n",
       "      <td>K Hariharan</td>\n",
       "    </tr>\n",
       "    <tr>\n",
       "      <th>946</th>\n",
       "      <td>335985</td>\n",
       "      <td>Mumbai</td>\n",
       "      <td>2008-04-20</td>\n",
       "      <td>2007/08</td>\n",
       "      <td>5</td>\n",
       "      <td>Mumbai Indians</td>\n",
       "      <td>Royal Challengers Bangalore</td>\n",
       "      <td>Wankhede Stadium</td>\n",
       "      <td>Mumbai Indians</td>\n",
       "      <td>bat</td>\n",
       "      <td>N</td>\n",
       "      <td>Royal Challengers Bangalore</td>\n",
       "      <td>Wickets</td>\n",
       "      <td>5.0</td>\n",
       "      <td>NaN</td>\n",
       "      <td>MV Boucher</td>\n",
       "      <td>['L Ronchi', 'ST Jayasuriya', 'DJ Thornely', '...</td>\n",
       "      <td>['S Chanderpaul', 'R Dravid', 'LRPL Taylor', '...</td>\n",
       "      <td>SJ Davis</td>\n",
       "      <td>DJ Harper</td>\n",
       "    </tr>\n",
       "    <tr>\n",
       "      <th>947</th>\n",
       "      <td>335984</td>\n",
       "      <td>Delhi</td>\n",
       "      <td>2008-04-19</td>\n",
       "      <td>2007/08</td>\n",
       "      <td>3</td>\n",
       "      <td>Delhi Daredevils</td>\n",
       "      <td>Rajasthan Royals</td>\n",
       "      <td>Feroz Shah Kotla</td>\n",
       "      <td>Rajasthan Royals</td>\n",
       "      <td>bat</td>\n",
       "      <td>N</td>\n",
       "      <td>Delhi Daredevils</td>\n",
       "      <td>Wickets</td>\n",
       "      <td>9.0</td>\n",
       "      <td>NaN</td>\n",
       "      <td>MF Maharoof</td>\n",
       "      <td>['G Gambhir', 'V Sehwag', 'S Dhawan', 'MK Tiwa...</td>\n",
       "      <td>['T Kohli', 'YK Pathan', 'SR Watson', 'M Kaif'...</td>\n",
       "      <td>Aleem Dar</td>\n",
       "      <td>GA Pratapkumar</td>\n",
       "    </tr>\n",
       "    <tr>\n",
       "      <th>948</th>\n",
       "      <td>335983</td>\n",
       "      <td>Chandigarh</td>\n",
       "      <td>2008-04-19</td>\n",
       "      <td>2007/08</td>\n",
       "      <td>2</td>\n",
       "      <td>Kings XI Punjab</td>\n",
       "      <td>Chennai Super Kings</td>\n",
       "      <td>Punjab Cricket Association Stadium, Mohali</td>\n",
       "      <td>Chennai Super Kings</td>\n",
       "      <td>bat</td>\n",
       "      <td>N</td>\n",
       "      <td>Chennai Super Kings</td>\n",
       "      <td>Runs</td>\n",
       "      <td>33.0</td>\n",
       "      <td>NaN</td>\n",
       "      <td>MEK Hussey</td>\n",
       "      <td>['K Goel', 'JR Hopes', 'KC Sangakkara', 'Yuvra...</td>\n",
       "      <td>['PA Patel', 'ML Hayden', 'MEK Hussey', 'MS Dh...</td>\n",
       "      <td>MR Benson</td>\n",
       "      <td>SL Shastri</td>\n",
       "    </tr>\n",
       "    <tr>\n",
       "      <th>949</th>\n",
       "      <td>335982</td>\n",
       "      <td>Bangalore</td>\n",
       "      <td>2008-04-18</td>\n",
       "      <td>2007/08</td>\n",
       "      <td>1</td>\n",
       "      <td>Royal Challengers Bangalore</td>\n",
       "      <td>Kolkata Knight Riders</td>\n",
       "      <td>M Chinnaswamy Stadium</td>\n",
       "      <td>Royal Challengers Bangalore</td>\n",
       "      <td>field</td>\n",
       "      <td>N</td>\n",
       "      <td>Kolkata Knight Riders</td>\n",
       "      <td>Runs</td>\n",
       "      <td>140.0</td>\n",
       "      <td>NaN</td>\n",
       "      <td>BB McCullum</td>\n",
       "      <td>['R Dravid', 'W Jaffer', 'V Kohli', 'JH Kallis...</td>\n",
       "      <td>['SC Ganguly', 'BB McCullum', 'RT Ponting', 'D...</td>\n",
       "      <td>Asad Rauf</td>\n",
       "      <td>RE Koertzen</td>\n",
       "    </tr>\n",
       "  </tbody>\n",
       "</table>\n",
       "</div>"
      ],
      "text/plain": [
       "         ID        City        Date   Season MatchNumber  \\\n",
       "945  335986     Kolkata  2008-04-20  2007/08           4   \n",
       "946  335985      Mumbai  2008-04-20  2007/08           5   \n",
       "947  335984       Delhi  2008-04-19  2007/08           3   \n",
       "948  335983  Chandigarh  2008-04-19  2007/08           2   \n",
       "949  335982   Bangalore  2008-04-18  2007/08           1   \n",
       "\n",
       "                           Team1                        Team2  \\\n",
       "945        Kolkata Knight Riders              Deccan Chargers   \n",
       "946               Mumbai Indians  Royal Challengers Bangalore   \n",
       "947             Delhi Daredevils             Rajasthan Royals   \n",
       "948              Kings XI Punjab          Chennai Super Kings   \n",
       "949  Royal Challengers Bangalore        Kolkata Knight Riders   \n",
       "\n",
       "                                          Venue                   TossWinner  \\\n",
       "945                                Eden Gardens              Deccan Chargers   \n",
       "946                            Wankhede Stadium               Mumbai Indians   \n",
       "947                            Feroz Shah Kotla             Rajasthan Royals   \n",
       "948  Punjab Cricket Association Stadium, Mohali          Chennai Super Kings   \n",
       "949                       M Chinnaswamy Stadium  Royal Challengers Bangalore   \n",
       "\n",
       "    TossDecision SuperOver                  WinningTeam    WonBy  Margin  \\\n",
       "945          bat         N        Kolkata Knight Riders  Wickets     5.0   \n",
       "946          bat         N  Royal Challengers Bangalore  Wickets     5.0   \n",
       "947          bat         N             Delhi Daredevils  Wickets     9.0   \n",
       "948          bat         N          Chennai Super Kings     Runs    33.0   \n",
       "949        field         N        Kolkata Knight Riders     Runs   140.0   \n",
       "\n",
       "    method Player_of_Match                                       Team1Players  \\\n",
       "945    NaN       DJ Hussey  ['WP Saha', 'BB McCullum', 'RT Ponting', 'SC G...   \n",
       "946    NaN      MV Boucher  ['L Ronchi', 'ST Jayasuriya', 'DJ Thornely', '...   \n",
       "947    NaN     MF Maharoof  ['G Gambhir', 'V Sehwag', 'S Dhawan', 'MK Tiwa...   \n",
       "948    NaN      MEK Hussey  ['K Goel', 'JR Hopes', 'KC Sangakkara', 'Yuvra...   \n",
       "949    NaN     BB McCullum  ['R Dravid', 'W Jaffer', 'V Kohli', 'JH Kallis...   \n",
       "\n",
       "                                          Team2Players    Umpire1  \\\n",
       "945  ['AC Gilchrist', 'Y Venugopal Rao', 'VVS Laxma...  BF Bowden   \n",
       "946  ['S Chanderpaul', 'R Dravid', 'LRPL Taylor', '...   SJ Davis   \n",
       "947  ['T Kohli', 'YK Pathan', 'SR Watson', 'M Kaif'...  Aleem Dar   \n",
       "948  ['PA Patel', 'ML Hayden', 'MEK Hussey', 'MS Dh...  MR Benson   \n",
       "949  ['SC Ganguly', 'BB McCullum', 'RT Ponting', 'D...  Asad Rauf   \n",
       "\n",
       "            Umpire2  \n",
       "945     K Hariharan  \n",
       "946       DJ Harper  \n",
       "947  GA Pratapkumar  \n",
       "948      SL Shastri  \n",
       "949     RE Koertzen  "
      ]
     },
     "execution_count": 218,
     "metadata": {},
     "output_type": "execute_result"
    }
   ],
   "source": [
    "ipl.tail()"
   ]
  },
  {
   "cell_type": "code",
   "execution_count": null,
   "id": "0b0c82e8",
   "metadata": {},
   "outputs": [],
   "source": []
  },
  {
   "cell_type": "code",
   "execution_count": null,
   "id": "ab21bbfe",
   "metadata": {},
   "outputs": [],
   "source": []
  },
  {
   "cell_type": "code",
   "execution_count": null,
   "id": "f9379a46",
   "metadata": {},
   "outputs": [],
   "source": []
  }
 ],
 "metadata": {
  "kernelspec": {
   "display_name": "Python 3",
   "language": "python",
   "name": "python3"
  },
  "language_info": {
   "codemirror_mode": {
    "name": "ipython",
    "version": 3
   },
   "file_extension": ".py",
   "mimetype": "text/x-python",
   "name": "python",
   "nbconvert_exporter": "python",
   "pygments_lexer": "ipython3",
   "version": "3.12.4"
  }
 },
 "nbformat": 4,
 "nbformat_minor": 5
}
