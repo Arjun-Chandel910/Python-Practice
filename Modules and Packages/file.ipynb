{
 "cells": [
  {
   "cell_type": "markdown",
   "id": "5da3467c",
   "metadata": {},
   "source": [
    "## Modules and packages :\n",
    "#### Helps organize and reuse code."
   ]
  },
  {
   "cell_type": "code",
   "execution_count": 2,
   "id": "3e6702f2",
   "metadata": {},
   "outputs": [
    {
     "data": {
      "text/plain": [
       "9"
      ]
     },
     "execution_count": 2,
     "metadata": {},
     "output_type": "execute_result"
    }
   ],
   "source": [
    "import math  ## this i a library ,\n",
    "int(math.sqrt(81))"
   ]
  },
  {
   "cell_type": "code",
   "execution_count": 1,
   "id": "d7ec2bb1",
   "metadata": {},
   "outputs": [
    {
     "name": "stdout",
     "output_type": "stream",
     "text": [
      "1.7724538509055159\n"
     ]
    }
   ],
   "source": [
    "# selective imports\n",
    "from math import sqrt ,pi\n",
    "print(sqrt(pi))"
   ]
  },
  {
   "cell_type": "code",
   "execution_count": 6,
   "id": "7d13bfe7",
   "metadata": {},
   "outputs": [
    {
     "data": {
      "text/plain": [
       "array([12,  3,  4,  5,  6])"
      ]
     },
     "execution_count": 6,
     "metadata": {},
     "output_type": "execute_result"
    }
   ],
   "source": [
    "import numpy as np\n",
    "np.array([12,3,4,5,6])"
   ]
  },
  {
   "cell_type": "code",
   "execution_count": 7,
   "id": "79a813b1",
   "metadata": {},
   "outputs": [
    {
     "data": {
      "text/plain": [
       "8.0"
      ]
     },
     "execution_count": 7,
     "metadata": {},
     "output_type": "execute_result"
    }
   ],
   "source": [
    "from math import * \n",
    "sqrt(64)"
   ]
  },
  {
   "cell_type": "markdown",
   "id": "0841ffe8",
   "metadata": {},
   "source": [
    "## Creating our own packages\n",
    "\n",
    "#### : create a folder and in that folder a _init_.py file (this can remain empty , now create other files in this folder , then these packages can be imported in other files ) "
   ]
  },
  {
   "cell_type": "code",
   "execution_count": 8,
   "id": "da97d9f3",
   "metadata": {},
   "outputs": [
    {
     "name": "stdout",
     "output_type": "stream",
     "text": [
      "10\n",
      "-5\n"
     ]
    }
   ],
   "source": [
    "from package.maths import addition,subs\n",
    "print(addition(3,7))\n",
    "print(subs(4,9) )"
   ]
  },
  {
   "cell_type": "markdown",
   "id": "fe5862b0",
   "metadata": {},
   "source": [
    "## Some  Inbuilt libraries in python"
   ]
  },
  {
   "cell_type": "code",
   "execution_count": 123,
   "id": "fdd0222e",
   "metadata": {},
   "outputs": [
    {
     "name": "stdout",
     "output_type": "stream",
     "text": [
      "4\n",
      "6\n",
      "apple\n"
     ]
    }
   ],
   "source": [
    "import random \n",
    "\n",
    "print(int(random.random()*10)+1) #or\n",
    "print(random.randint(0,10))\n",
    "\n",
    "print(random.choice([\"apple\",\"banana\",\"orange\",\"peech\"]))\n"
   ]
  },
  {
   "cell_type": "markdown",
   "id": "e465733b",
   "metadata": {},
   "source": [
    "### OS library : for file and directory access"
   ]
  },
  {
   "cell_type": "code",
   "execution_count": 140,
   "id": "93cbaf1e",
   "metadata": {},
   "outputs": [
    {
     "name": "stdout",
     "output_type": "stream",
     "text": [
      "k:\\Python\\Modules and Packages\n",
      "<module 'ntpath' (frozen)>\n"
     ]
    }
   ],
   "source": [
    "import os \n",
    "print(os.getcwd())\n",
    "print(os.path)"
   ]
  },
  {
   "cell_type": "code",
   "execution_count": 154,
   "id": "64f774d6",
   "metadata": {},
   "outputs": [],
   "source": [
    "# to create a file \n",
    "if not os.path.exists(\"test.txt\"):\n",
    "    with open (\"test.txt\",'w') as f:\n",
    "        f.writelines(\"hi how are you thisis a very good thing \" )"
   ]
  },
  {
   "cell_type": "code",
   "execution_count": 148,
   "id": "81c8dfa5",
   "metadata": {},
   "outputs": [],
   "source": [
    "if os.path.exists(\"test.txt\"):\n",
    "    os.remove(\"test.txt\")"
   ]
  },
  {
   "cell_type": "code",
   "execution_count": 158,
   "id": "54ea86f2",
   "metadata": {},
   "outputs": [
    {
     "data": {
      "text/plain": [
       "'destination.txt'"
      ]
     },
     "execution_count": 158,
     "metadata": {},
     "output_type": "execute_result"
    }
   ],
   "source": [
    "# highg level operations on files and collection of files \n",
    "import shutil\n",
    "shutil.copyfile(\"source.txt\" , \"destination.txt\")"
   ]
  },
  {
   "cell_type": "markdown",
   "id": "2e7286d4",
   "metadata": {},
   "source": [
    "### Data Serialization:\n",
    "Deserialization is the process of converting a stream or format (like JSON, binary, or XML) into a native object or data structure in your programming language — such as objects, arrays, structs, maps, etc.\n",
    "serialization is the inverse of this \n"
   ]
  },
  {
   "cell_type": "code",
   "execution_count": 169,
   "id": "5a54716a",
   "metadata": {},
   "outputs": [
    {
     "name": "stdout",
     "output_type": "stream",
     "text": [
      "{\"name\": \"Arjun Chandel\", \"age \": 20}\n",
      "<class 'str'>\n",
      "{'name': 'Arjun Chandel', 'age ': 20}\n",
      "<class 'dict'>\n"
     ]
    }
   ],
   "source": [
    "import json \n",
    "data = { \"name\":\"Arjun Chandel\", \"age \": 20 }\n",
    "\n",
    "json_str= json.dumps(data) ## converts to string \n",
    "print(json_str)\n",
    "print(type(json_str))\n",
    "\n",
    "parsed_data= json.loads(json_str) ## converts the string back to its original type\n",
    "print(parsed_data)\n",
    "print(type(parsed_data))\n",
    "\n",
    "\n",
    "\n"
   ]
  },
  {
   "cell_type": "code",
   "execution_count": 177,
   "id": "a8dad810",
   "metadata": {},
   "outputs": [
    {
     "name": "stdout",
     "output_type": "stream",
     "text": [
      "['name', 'age']\n",
      "['Arjun Chandel', '20']\n"
     ]
    }
   ],
   "source": [
    "import csv\n",
    "\n",
    "with open(\"example.csv\", mode='w', newline='') as file:\n",
    "    writer = csv.writer(file)\n",
    "    writer.writerow([\"name\",\"age\"])\n",
    "    writer.writerow([\"Arjun Chandel\",\"20\"])\n",
    "with open(\"example.csv\", mode='r') as file:\n",
    "    reader= csv.reader(file)\n",
    "    for row in reader:\n",
    "        print(row)\n"
   ]
  },
  {
   "cell_type": "markdown",
   "id": "134c37b9",
   "metadata": {},
   "source": [
    "### datetime"
   ]
  },
  {
   "cell_type": "code",
   "execution_count": 268,
   "id": "3deb4045",
   "metadata": {},
   "outputs": [
    {
     "name": "stdout",
     "output_type": "stream",
     "text": [
      "2025-06-30 19:03:11.442289\n",
      "2025-06-25 19:03:11.442289\n"
     ]
    }
   ],
   "source": [
    "from datetime import datetime, timedelta\n",
    "now = datetime.now()\n",
    "print(now)\n",
    "yesterday = now - timedelta(days=5)\n",
    "print(yesterday)"
   ]
  },
  {
   "cell_type": "code",
   "execution_count": 271,
   "id": "206d9177",
   "metadata": {},
   "outputs": [
    {
     "name": "stdout",
     "output_type": "stream",
     "text": [
      "1751290536.8751261\n",
      "1751290541.8761501\n"
     ]
    }
   ],
   "source": [
    "import time\n",
    "print(time.time())\n",
    "time.sleep(5)\n",
    "print(time.time())\n"
   ]
  },
  {
   "cell_type": "code",
   "execution_count": 277,
   "id": "d28f22e4",
   "metadata": {},
   "outputs": [
    {
     "name": "stdout",
     "output_type": "stream",
     "text": [
      "206\n"
     ]
    }
   ],
   "source": [
    "# regular expression\n",
    "import re\n",
    "pattern = r'\\d+'\n",
    "text =\"Humans have 206 bones\"\n",
    "match  = re.search(pattern, text)\n",
    "print(match.group())\n"
   ]
  }
 ],
 "metadata": {
  "kernelspec": {
   "display_name": "Python 3",
   "language": "python",
   "name": "python3"
  },
  "language_info": {
   "codemirror_mode": {
    "name": "ipython",
    "version": 3
   },
   "file_extension": ".py",
   "mimetype": "text/x-python",
   "name": "python",
   "nbconvert_exporter": "python",
   "pygments_lexer": "ipython3",
   "version": "3.12.4"
  }
 },
 "nbformat": 4,
 "nbformat_minor": 5
}
