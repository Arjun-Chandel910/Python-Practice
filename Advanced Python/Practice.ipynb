{
 "cells": [
  {
   "cell_type": "code",
   "execution_count": 1,
   "id": "756f82c0",
   "metadata": {},
   "outputs": [],
   "source": [
    "\n",
    "# practice\n",
    "class InfiniteCounter:\n",
    "    def __init__(self,start):\n",
    "        self.start= start\n",
    "        self.counter=start\n",
    "    def __iter__(self):\n",
    "        return self.counter\n",
    "    def __next__(self):\n",
    "         num=self.counter\n",
    "         self.counter+=1\n",
    "         return num\n",
    "\n",
    "n = InfiniteCounter(5)\n"
   ]
  },
  {
   "cell_type": "code",
   "execution_count": 22,
   "id": "40b50784",
   "metadata": {},
   "outputs": [
    {
     "name": "stdout",
     "output_type": "stream",
     "text": [
      "25\n"
     ]
    }
   ],
   "source": [
    "print(n.__next__())\n"
   ]
  },
  {
   "cell_type": "code",
   "execution_count": null,
   "id": "6e2f549d",
   "metadata": {},
   "outputs": [
    {
     "name": "stdout",
     "output_type": "stream",
     "text": [
      "-1\n"
     ]
    }
   ],
   "source": [
    "## nagetive doubles and integer generator\n",
    "def integer(n):\n",
    "    for i in range(1,n+1):\n",
    "        yield i\n",
    "def doubles(nums):\n",
    "    for n in nums:\n",
    "        yield n**2\n",
    "def negative(nums):\n",
    "    for n in nums:\n",
    "        yield -n\n",
    "intg = integer(10)\n",
    "dval = doubles(intg)\n",
    "neg = negative(dval)\n",
    "\n",
    "\n"
   ]
  },
  {
   "cell_type": "code",
   "execution_count": 36,
   "id": "22904134",
   "metadata": {},
   "outputs": [
    {
     "name": "stdout",
     "output_type": "stream",
     "text": [
      "-36\n"
     ]
    }
   ],
   "source": [
    "print(next(neg))\n"
   ]
  },
  {
   "cell_type": "code",
   "execution_count": null,
   "id": "bf6b7d76",
   "metadata": {},
   "outputs": [],
   "source": []
  }
 ],
 "metadata": {
  "kernelspec": {
   "display_name": "Python 3",
   "language": "python",
   "name": "python3"
  },
  "language_info": {
   "codemirror_mode": {
    "name": "ipython",
    "version": 3
   },
   "file_extension": ".py",
   "mimetype": "text/x-python",
   "name": "python",
   "nbconvert_exporter": "python",
   "pygments_lexer": "ipython3",
   "version": "3.12.4"
  }
 },
 "nbformat": 4,
 "nbformat_minor": 5
}
