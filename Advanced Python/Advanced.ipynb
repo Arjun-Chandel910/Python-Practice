{
 "cells": [
  {
   "cell_type": "markdown",
   "id": "f0756bb6",
   "metadata": {},
   "source": [
    "### Advanced Python "
   ]
  },
  {
   "cell_type": "code",
   "execution_count": 2,
   "id": "0f62da78",
   "metadata": {},
   "outputs": [
    {
     "name": "stdout",
     "output_type": "stream",
     "text": [
      "<class 'list_iterator'>\n"
     ]
    }
   ],
   "source": [
    "# Iterator\n",
    "my_list= [1,2,3,4,5,6]  \n",
    "iterator = iter(my_list)\n",
    "print(type(iterator))     "
   ]
  },
  {
   "cell_type": "code",
   "execution_count": 5,
   "id": "8814d1e4",
   "metadata": {},
   "outputs": [
    {
     "name": "stdout",
     "output_type": "stream",
     "text": [
      "3\n"
     ]
    }
   ],
   "source": [
    "try:\n",
    " print(next(iterator)) \n",
    "except Exception as e:\n",
    " print(\"There are no iterators in the iterator\")\n"
   ]
  },
  {
   "cell_type": "code",
   "execution_count": 50,
   "id": "79e3bbe5",
   "metadata": {},
   "outputs": [],
   "source": [
    "## generator used to generator iterators (crate iterators with custom behavior) \n",
    "def list_generator(lst):\n",
    "    for i in lst:\n",
    "        yield i\n",
    "iterator = list_generator([2,2,3,4,5,6])\n"
   ]
  },
  {
   "cell_type": "code",
   "execution_count": 53,
   "id": "0d45eb7f",
   "metadata": {},
   "outputs": [
    {
     "name": "stdout",
     "output_type": "stream",
     "text": [
      "3\n"
     ]
    }
   ],
   "source": [
    "print(next(iterator))"
   ]
  },
  {
   "cell_type": "code",
   "execution_count": 1,
   "id": "4dabb82c",
   "metadata": {},
   "outputs": [],
   "source": [
    "# You: \"Hey generator, next line please!\"  → `next()`\n",
    "# Generator: \"Here you go!\"               → `yield line`\n",
    "\n",
    "def readfile(path):\n",
    "    with open(path , 'r') as file:\n",
    "        for line in file.readlines():\n",
    "            yield line.strip()\n",
    "iterator =readfile(\"example.txt\")\n"
   ]
  },
  {
   "cell_type": "code",
   "execution_count": 2,
   "id": "b4e96f72",
   "metadata": {},
   "outputs": [
    {
     "name": "stdout",
     "output_type": "stream",
     "text": [
      "slkfaaaaa\n"
     ]
    }
   ],
   "source": [
    "print(next(iterator))"
   ]
  },
  {
   "cell_type": "markdown",
   "id": "33ab118e",
   "metadata": {},
   "source": [
    "#### funcition copies\n",
    "#### decorators\n",
    "#### closures"
   ]
  },
  {
   "cell_type": "code",
   "execution_count": 6,
   "id": "7244ffc1",
   "metadata": {},
   "outputs": [
    {
     "name": "stdout",
     "output_type": "stream",
     "text": [
      "Welcome to the Arjun Insights!\n",
      "Welcome to the Arjun Insights!\n"
     ]
    }
   ],
   "source": [
    "## function copy \n",
    "def welcome():\n",
    "    print(\"Welcome to the Arjun Insights!\")\n",
    "wel = welcome\n",
    "wel()\n",
    "del welcome\n",
    "wel()"
   ]
  },
  {
   "cell_type": "code",
   "execution_count": null,
   "id": "9ce351c9",
   "metadata": {},
   "outputs": [
    {
     "name": "stdout",
     "output_type": "stream",
     "text": [
      "Nameste ji !\n"
     ]
    }
   ],
   "source": [
    "## closures   (the inner function has the access to the variable of outer function even when the outer function is out of scope)\n",
    "def outer():\n",
    "    msg = \"Nameste ji !\"\n",
    "    def inner():\n",
    "        print(msg)\n",
    "    return inner\n",
    "greet = outer()## the outer function finished here but the inner function will remember the msg even after that !\n",
    "greet()"
   ]
  },
  {
   "cell_type": "code",
   "execution_count": 22,
   "id": "2697d687",
   "metadata": {},
   "outputs": [],
   "source": [
    "## decorators\n",
    "def mainFunction(func):\n",
    "    def subFunction():\n",
    "        print(\"Before\")\n",
    "        func()\n",
    "        print(\"After\")\n",
    "    return subFunction"
   ]
  },
  {
   "cell_type": "code",
   "execution_count": null,
   "id": "4ef9ff9e",
   "metadata": {},
   "outputs": [
    {
     "name": "stdout",
     "output_type": "stream",
     "text": [
      "Before\n",
      "Namaste!\n",
      "After\n"
     ]
    }
   ],
   "source": [
    "@mainFunction\n",
    "def greet():\n",
    "    print(\"Namaste!\")\n",
    "greet()\n",
    "## we could have also simple done mainFunction(greet) and the same out put would have printed instead of this whole code "
   ]
  },
  {
   "cell_type": "code",
   "execution_count": null,
   "id": "6eda7222",
   "metadata": {},
   "outputs": [],
   "source": []
  },
  {
   "cell_type": "code",
   "execution_count": null,
   "id": "70386dd6",
   "metadata": {},
   "outputs": [
    {
     "name": "stdout",
     "output_type": "stream",
     "text": [
      "47\n"
     ]
    }
   ],
   "source": []
  },
  {
   "cell_type": "code",
   "execution_count": null,
   "id": "a649b5bb",
   "metadata": {},
   "outputs": [],
   "source": []
  },
  {
   "cell_type": "code",
   "execution_count": null,
   "id": "1713108b",
   "metadata": {},
   "outputs": [],
   "source": []
  }
 ],
 "metadata": {
  "kernelspec": {
   "display_name": "Python 3",
   "language": "python",
   "name": "python3"
  },
  "language_info": {
   "codemirror_mode": {
    "name": "ipython",
    "version": 3
   },
   "file_extension": ".py",
   "mimetype": "text/x-python",
   "name": "python",
   "nbconvert_exporter": "python",
   "pygments_lexer": "ipython3",
   "version": "3.12.4"
  }
 },
 "nbformat": 4,
 "nbformat_minor": 5
}
